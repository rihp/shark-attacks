{
 "cells": [
  {
   "cell_type": "markdown",
   "metadata": {},
   "source": [
    "![Shark attacks, a project by Roberto Henríquez Perozo. Data Analytics Bootcamp at IronHack](INPUT/shark-attacks.png)\n",
    "\n",
    "<center>You can clone the repo of this project at <br>https://github.com/rihp/shark-attacks </center>"
   ]
  },
  {
   "cell_type": "markdown",
   "metadata": {},
   "source": [
    " <center><h1> PART II <br> Data analysis and hypothesis formulation</h1> </center>\n",
    " \n",
    " "
   ]
  },
  {
   "cell_type": "code",
   "execution_count": 1,
   "metadata": {},
   "outputs": [],
   "source": [
    "# You should have an exported.csv file. \n",
    "# We generated it while following along the 'PART I' of this project. \n",
    "# Do you have it?\n",
    "# If you don't, you can download the 'PART I' from: \n",
    "# https://github.com/rihp/shark-attacks"
   ]
  },
  {
   "cell_type": "code",
   "execution_count": 2,
   "metadata": {},
   "outputs": [],
   "source": [
    "# Importing modules\n",
    "import pandas as pd\n",
    "import numpy as np\n",
    "import random\n",
    "import matplotlib\n",
    "\n",
    "#pd.compat.PY3 = True\n",
    "%matplotlib inline"
   ]
  },
  {
   "cell_type": "code",
   "execution_count": 3,
   "metadata": {
    "scrolled": true
   },
   "outputs": [
    {
     "data": {
      "text/html": [
       "<div>\n",
       "<style scoped>\n",
       "    .dataframe tbody tr th:only-of-type {\n",
       "        vertical-align: middle;\n",
       "    }\n",
       "\n",
       "    .dataframe tbody tr th {\n",
       "        vertical-align: top;\n",
       "    }\n",
       "\n",
       "    .dataframe thead th {\n",
       "        text-align: right;\n",
       "    }\n",
       "</style>\n",
       "<table border=\"1\" class=\"dataframe\">\n",
       "  <thead>\n",
       "    <tr style=\"text-align: right;\">\n",
       "      <th></th>\n",
       "      <th>Unnamed: 0</th>\n",
       "      <th>CaseNum</th>\n",
       "      <th>Date</th>\n",
       "      <th>Year</th>\n",
       "      <th>Type</th>\n",
       "      <th>Country</th>\n",
       "      <th>Area</th>\n",
       "      <th>Location</th>\n",
       "      <th>Activity</th>\n",
       "      <th>Sex</th>\n",
       "      <th>Injury</th>\n",
       "      <th>Fatal</th>\n",
       "      <th>Species</th>\n",
       "      <th>Source</th>\n",
       "      <th>href</th>\n",
       "      <th>Species2</th>\n",
       "      <th>Activity2</th>\n",
       "    </tr>\n",
       "  </thead>\n",
       "  <tbody>\n",
       "    <tr>\n",
       "      <th>0</th>\n",
       "      <td>0</td>\n",
       "      <td>2018.06.25</td>\n",
       "      <td>25-Jun-2018</td>\n",
       "      <td>2018.0</td>\n",
       "      <td>Boat</td>\n",
       "      <td>USA</td>\n",
       "      <td>California</td>\n",
       "      <td>Oceanside, San Diego County</td>\n",
       "      <td>Paddling</td>\n",
       "      <td>F</td>\n",
       "      <td>No injury to occupant, outrigger canoe and pad...</td>\n",
       "      <td>N</td>\n",
       "      <td>White shark</td>\n",
       "      <td>R. Collier, GSAF</td>\n",
       "      <td>http://sharkattackfile.net/spreadsheets/pdf_di...</td>\n",
       "      <td>White shark</td>\n",
       "      <td>Paddling</td>\n",
       "    </tr>\n",
       "    <tr>\n",
       "      <th>1</th>\n",
       "      <td>1</td>\n",
       "      <td>2018.06.18</td>\n",
       "      <td>18-Jun-2018</td>\n",
       "      <td>2018.0</td>\n",
       "      <td>Unprovoked</td>\n",
       "      <td>USA</td>\n",
       "      <td>Georgia</td>\n",
       "      <td>St. Simon Island, Glynn County</td>\n",
       "      <td>Standing</td>\n",
       "      <td>F</td>\n",
       "      <td>Minor injury to left thigh</td>\n",
       "      <td>N</td>\n",
       "      <td>Invalid</td>\n",
       "      <td>K.McMurray, TrackingSharks.com</td>\n",
       "      <td>http://sharkattackfile.net/spreadsheets/pdf_di...</td>\n",
       "      <td>INVALID ENTRY</td>\n",
       "      <td>Standing</td>\n",
       "    </tr>\n",
       "    <tr>\n",
       "      <th>2</th>\n",
       "      <td>2</td>\n",
       "      <td>2018.06.09</td>\n",
       "      <td>09-Jun-2018</td>\n",
       "      <td>2018.0</td>\n",
       "      <td>Invalid</td>\n",
       "      <td>USA</td>\n",
       "      <td>Hawaii</td>\n",
       "      <td>Habush, Oahu</td>\n",
       "      <td>Surfing</td>\n",
       "      <td>M</td>\n",
       "      <td>Injury to left lower leg from surfboard skeg</td>\n",
       "      <td>N</td>\n",
       "      <td>Invalid</td>\n",
       "      <td>K.McMurray, TrackingSharks.com</td>\n",
       "      <td>http://sharkattackfile.net/spreadsheets/pdf_di...</td>\n",
       "      <td>INVALID ENTRY</td>\n",
       "      <td>Surfing</td>\n",
       "    </tr>\n",
       "  </tbody>\n",
       "</table>\n",
       "</div>"
      ],
      "text/plain": [
       "   Unnamed: 0     CaseNum         Date    Year        Type Country  \\\n",
       "0           0  2018.06.25  25-Jun-2018  2018.0        Boat     USA   \n",
       "1           1  2018.06.18  18-Jun-2018  2018.0  Unprovoked     USA   \n",
       "2           2  2018.06.09  09-Jun-2018  2018.0     Invalid     USA   \n",
       "\n",
       "         Area                        Location  Activity Sex  \\\n",
       "0  California     Oceanside, San Diego County  Paddling   F   \n",
       "1     Georgia  St. Simon Island, Glynn County  Standing   F   \n",
       "2      Hawaii                    Habush, Oahu   Surfing   M   \n",
       "\n",
       "                                              Injury Fatal      Species  \\\n",
       "0  No injury to occupant, outrigger canoe and pad...     N  White shark   \n",
       "1                         Minor injury to left thigh     N      Invalid   \n",
       "2       Injury to left lower leg from surfboard skeg     N      Invalid   \n",
       "\n",
       "                           Source  \\\n",
       "0                R. Collier, GSAF   \n",
       "1  K.McMurray, TrackingSharks.com   \n",
       "2  K.McMurray, TrackingSharks.com   \n",
       "\n",
       "                                                href       Species2 Activity2  \n",
       "0  http://sharkattackfile.net/spreadsheets/pdf_di...    White shark  Paddling  \n",
       "1  http://sharkattackfile.net/spreadsheets/pdf_di...  INVALID ENTRY  Standing  \n",
       "2  http://sharkattackfile.net/spreadsheets/pdf_di...  INVALID ENTRY   Surfing  "
      ]
     },
     "execution_count": 3,
     "metadata": {},
     "output_type": "execute_result"
    }
   ],
   "source": [
    "# Loading the cleaned dataset as a dataframe\n",
    "df = pd.read_csv('OUTPUT/exported.csv', encoding='latin-1')\n",
    "df.head(3)"
   ]
  },
  {
   "cell_type": "code",
   "execution_count": 4,
   "metadata": {
    "scrolled": true
   },
   "outputs": [
    {
     "data": {
      "text/plain": [
       "Index([u'CaseNum', u'Date', u'Year', u'Type', u'Country', u'Area', u'Location',\n",
       "       u'Activity', u'Sex', u'Injury', u'Fatal', u'Species', u'Source',\n",
       "       u'href', u'Species2', u'Activity2'],\n",
       "      dtype='object')"
      ]
     },
     "execution_count": 4,
     "metadata": {},
     "output_type": "execute_result"
    }
   ],
   "source": [
    "# Review the columns of the exported dataset\n",
    "df = df.drop(columns='Unnamed: 0')\n",
    "df.columns"
   ]
  },
  {
   "cell_type": "markdown",
   "metadata": {},
   "source": [
    "## 🎣️ Step 7 - BASIC GRAPHS"
   ]
  },
  {
   "cell_type": "markdown",
   "metadata": {},
   "source": [
    "### 🦈️ Fatalities"
   ]
  },
  {
   "cell_type": "code",
   "execution_count": 5,
   "metadata": {
    "scrolled": true
   },
   "outputs": [
    {
     "data": {
      "text/plain": [
       "<matplotlib.axes._subplots.AxesSubplot at 0x7f19a4fa6bd0>"
      ]
     },
     "execution_count": 5,
     "metadata": {},
     "output_type": "execute_result"
    },
    {
     "data": {
      "image/png": "[encoded data removed]",
      "text/plain": [
       "<Figure size 432x288 with 1 Axes>"
      ]
     },
     "metadata": {},
     "output_type": "display_data"
    }
   ],
   "source": [
    "# Total Fatalities include unknown values\n",
    "\n",
    "s_fatal = df.Fatal.value_counts()\n",
    "s_fatal.plot.pie(title='Distribution of total fatalities', colors=('steelblue', 'salmon', 'grey'))"
   ]
  },
  {
   "cell_type": "code",
   "execution_count": 6,
   "metadata": {
    "scrolled": true
   },
   "outputs": [
    {
     "data": {
      "text/plain": [
       "<matplotlib.axes._subplots.AxesSubplot at 0x7f19a4ee91d0>"
      ]
     },
     "execution_count": 6,
     "metadata": {},
     "output_type": "execute_result"
    },
    {
     "data": {
      "image/png": "[encoded data removed]",
      "text/plain": [
       "<Figure size 432x288 with 1 Axes>"
      ]
     },
     "metadata": {},
     "output_type": "display_data"
    }
   ],
   "source": [
    "# Taking out the unkown values\n",
    "\n",
    "fatals_filt = df[~df.Fatal.isin(['UNKNOWN'])]\n",
    "fatals_filt.Fatal.value_counts().plot.pie(title='Distribution of known fatalities and survivals',\n",
    "                                         colors=('steelblue', 'salmon'))"
   ]
  },
  {
   "cell_type": "markdown",
   "metadata": {},
   "source": [
    "### 🦈️ PROVOKED and UNPROVOKED Attacks (`Type` Column)"
   ]
  },
  {
   "cell_type": "code",
   "execution_count": 7,
   "metadata": {
    "scrolled": true
   },
   "outputs": [
    {
     "data": {
      "text/plain": [
       "<matplotlib.axes._subplots.AxesSubplot at 0x7f19a4eac950>"
      ]
     },
     "execution_count": 7,
     "metadata": {},
     "output_type": "execute_result"
    },
    {
     "data": {
      "image/png": "[encoded data removed]",
      "text/plain": [
       "<Figure size 432x288 with 1 Axes>"
      ]
     },
     "metadata": {},
     "output_type": "display_data"
    }
   ],
   "source": [
    "# Types of attack\n",
    "s_types = df.Type.value_counts()\n",
    "s_types.plot.pie(title='Distribution of all Types of attacks',\n",
    "                colors=('steelblue', 'salmon', 'grey', 'blue', 'orange'))"
   ]
  },
  {
   "cell_type": "code",
   "execution_count": 8,
   "metadata": {
    "scrolled": false
   },
   "outputs": [
    {
     "data": {
      "text/plain": [
       "<matplotlib.axes._subplots.AxesSubplot at 0x7f19a4e0df90>"
      ]
     },
     "execution_count": 8,
     "metadata": {},
     "output_type": "execute_result"
    },
    {
     "data": {
      "image/png": "[encoded data removed]",
      "text/plain": [
       "<Figure size 432x288 with 1 Axes>"
      ]
     },
     "metadata": {},
     "output_type": "display_data"
    }
   ],
   "source": [
    "# Types of attack\n",
    "types_filt = df[df.Type.isin(['Provoked', 'Unprovoked'])]\n",
    "types_filt.Type.value_counts().plot.pie(title='Distribution of all Types of attacks',\n",
    "                                       colors=('steelblue', 'salmon'))"
   ]
  },
  {
   "cell_type": "markdown",
   "metadata": {},
   "source": [
    "## 🦈️ Shark Species - All properly documented incidents"
   ]
  },
  {
   "cell_type": "code",
   "execution_count": 9,
   "metadata": {},
   "outputs": [],
   "source": [
    "species_filt = df[\n",
    "    ~df.Species2.isin(['INVALID ENTRY',\n",
    "                               'OTHER / NOT KNOWN',\n",
    "                               'HOAX',\n",
    "                              'DROWNED',\n",
    "                              'STINGRAY'])]"
   ]
  },
  {
   "cell_type": "code",
   "execution_count": 10,
   "metadata": {
    "scrolled": true
   },
   "outputs": [
    {
     "data": {
      "text/plain": [
       "<matplotlib.axes._subplots.AxesSubplot at 0x7f19a4de0710>"
      ]
     },
     "execution_count": 10,
     "metadata": {},
     "output_type": "execute_result"
    },
    {
     "data": {
      "image/png": "[encoded data removed]",
      "text/plain": [
       "<Figure size 432x288 with 1 Axes>"
      ]
     },
     "metadata": {},
     "output_type": "display_data"
    }
   ],
   "source": [
    "species_filt.Species2.value_counts().plot.pie()"
   ]
  },
  {
   "cell_type": "code",
   "execution_count": 11,
   "metadata": {
    "scrolled": true
   },
   "outputs": [
    {
     "data": {
      "text/plain": [
       "<matplotlib.axes._subplots.AxesSubplot at 0x7f19a4d10d50>"
      ]
     },
     "execution_count": 11,
     "metadata": {},
     "output_type": "execute_result"
    },
    {
     "data": {
      "image/png": "[encoded data removed]",
      "text/plain": [
       "<Figure size 432x288 with 1 Axes>"
      ]
     },
     "metadata": {
      "needs_background": "light"
     },
     "output_type": "display_data"
    }
   ],
   "source": [
    "# All species represented\n",
    "only_sharks = df.Species2[~df.Species2.isin(['INVALID ENTRY',\n",
    "                               'OTHER / NOT KNOWN',\n",
    "                               'HOAX',\n",
    "                              'DROWNED',\n",
    "                              'STINGRAY'])]\n",
    "only_sharks.value_counts().plot.bar(title='rows per species')"
   ]
  },
  {
   "cell_type": "code",
   "execution_count": 12,
   "metadata": {
    "scrolled": true
   },
   "outputs": [
    {
     "data": {
      "text/plain": [
       "0    White shark\n",
       "4    Tiger shark\n",
       "6    Tiger shark\n",
       "7    Lemon shark\n",
       "8     Bull shark\n",
       "Name: Species2, dtype: object"
      ]
     },
     "execution_count": 12,
     "metadata": {},
     "output_type": "execute_result"
    }
   ],
   "source": [
    "only_sharks.head()"
   ]
  },
  {
   "cell_type": "markdown",
   "metadata": {},
   "source": [
    "## 🦈️ Shark Species - The Most Documented"
   ]
  },
  {
   "cell_type": "code",
   "execution_count": 13,
   "metadata": {},
   "outputs": [
    {
     "data": {
      "text/plain": [
       "[u'White shark', u'Tiger shark', u'Bull shark', u'Nurse shark', u'Reef shark']"
      ]
     },
     "execution_count": 13,
     "metadata": {},
     "output_type": "execute_result"
    }
   ],
   "source": [
    "top_sharks = []\n",
    "for e in list(species_filt.Species2.value_counts().head(5).items()):\n",
    "    top_sharks.append(e[0])\n",
    "top_sharks"
   ]
  },
  {
   "cell_type": "code",
   "execution_count": 14,
   "metadata": {
    "scrolled": false
   },
   "outputs": [
    {
     "data": {
      "text/plain": [
       "<matplotlib.axes._subplots.AxesSubplot at 0x7f19a4c7ea50>"
      ]
     },
     "execution_count": 14,
     "metadata": {},
     "output_type": "execute_result"
    },
    {
     "data": {
      "image/png": "[encoded data removed]",
      "text/plain": [
       "<Figure size 432x288 with 1 Axes>"
      ]
     },
     "metadata": {},
     "output_type": "display_data"
    }
   ],
   "source": [
    "# Top sharks represented and filtered\n",
    "species_filt.Species2[df.Species2.isin(top_sharks)].value_counts().plot.pie(\n",
    "    title='Most documented shark species')"
   ]
  },
  {
   "cell_type": "markdown",
   "metadata": {},
   "source": [
    "## 🎣️ Step 8 - Hypothesis verification"
   ]
  },
  {
   "cell_type": "markdown",
   "metadata": {},
   "source": [
    "## Do the 5 species with the most registered attacks have a higher *fatalities/survivals ratio* when these attacks are 'PROVOKED' by the victims?"
   ]
  },
  {
   "cell_type": "code",
   "execution_count": 15,
   "metadata": {
    "scrolled": false
   },
   "outputs": [
    {
     "name": "stderr",
     "output_type": "stream",
     "text": [
      "/home/rh/.local/lib/python2.7/site-packages/ipykernel_launcher.py:7: UserWarning: Boolean Series key will be reindexed to match DataFrame index.\n",
      "  import sys\n",
      "/home/rh/.local/lib/python2.7/site-packages/ipykernel_launcher.py:8: UserWarning: Boolean Series key will be reindexed to match DataFrame index.\n",
      "  \n"
     ]
    },
    {
     "data": {
      "text/html": [
       "<div>\n",
       "<style scoped>\n",
       "    .dataframe tbody tr th:only-of-type {\n",
       "        vertical-align: middle;\n",
       "    }\n",
       "\n",
       "    .dataframe tbody tr th {\n",
       "        vertical-align: top;\n",
       "    }\n",
       "\n",
       "    .dataframe thead th {\n",
       "        text-align: right;\n",
       "    }\n",
       "</style>\n",
       "<table border=\"1\" class=\"dataframe\">\n",
       "  <thead>\n",
       "    <tr style=\"text-align: right;\">\n",
       "      <th></th>\n",
       "      <th>Species2</th>\n",
       "      <th>Fatal</th>\n",
       "      <th>Type</th>\n",
       "    </tr>\n",
       "  </thead>\n",
       "  <tbody>\n",
       "    <tr>\n",
       "      <th>4</th>\n",
       "      <td>Tiger shark</td>\n",
       "      <td>N</td>\n",
       "      <td>Provoked</td>\n",
       "    </tr>\n",
       "    <tr>\n",
       "      <th>6</th>\n",
       "      <td>Tiger shark</td>\n",
       "      <td>Y</td>\n",
       "      <td>Unprovoked</td>\n",
       "    </tr>\n",
       "    <tr>\n",
       "      <th>8</th>\n",
       "      <td>Bull shark</td>\n",
       "      <td>N</td>\n",
       "      <td>Unprovoked</td>\n",
       "    </tr>\n",
       "    <tr>\n",
       "      <th>10</th>\n",
       "      <td>Reef shark</td>\n",
       "      <td>N</td>\n",
       "      <td>Provoked</td>\n",
       "    </tr>\n",
       "    <tr>\n",
       "      <th>14</th>\n",
       "      <td>Nurse shark</td>\n",
       "      <td>N</td>\n",
       "      <td>Provoked</td>\n",
       "    </tr>\n",
       "    <tr>\n",
       "      <th>18</th>\n",
       "      <td>Tiger shark</td>\n",
       "      <td>N</td>\n",
       "      <td>Unprovoked</td>\n",
       "    </tr>\n",
       "    <tr>\n",
       "      <th>22</th>\n",
       "      <td>White shark</td>\n",
       "      <td>N</td>\n",
       "      <td>Unprovoked</td>\n",
       "    </tr>\n",
       "    <tr>\n",
       "      <th>23</th>\n",
       "      <td>Tiger shark</td>\n",
       "      <td>N</td>\n",
       "      <td>Unprovoked</td>\n",
       "    </tr>\n",
       "    <tr>\n",
       "      <th>24</th>\n",
       "      <td>White shark</td>\n",
       "      <td>N</td>\n",
       "      <td>Unprovoked</td>\n",
       "    </tr>\n",
       "    <tr>\n",
       "      <th>26</th>\n",
       "      <td>Bull shark</td>\n",
       "      <td>N</td>\n",
       "      <td>Unprovoked</td>\n",
       "    </tr>\n",
       "  </tbody>\n",
       "</table>\n",
       "</div>"
      ],
      "text/plain": [
       "       Species2 Fatal        Type\n",
       "4   Tiger shark     N    Provoked\n",
       "6   Tiger shark     Y  Unprovoked\n",
       "8    Bull shark     N  Unprovoked\n",
       "10   Reef shark     N    Provoked\n",
       "14  Nurse shark     N    Provoked\n",
       "18  Tiger shark     N  Unprovoked\n",
       "22  White shark     N  Unprovoked\n",
       "23  Tiger shark     N  Unprovoked\n",
       "24  White shark     N  Unprovoked\n",
       "26   Bull shark     N  Unprovoked"
      ]
     },
     "execution_count": 15,
     "metadata": {},
     "output_type": "execute_result"
    }
   ],
   "source": [
    "\n",
    "# Here, I create a new copy of the dataframe which will be later masked to show\n",
    "# only relevant data - 🔥️ Can return an encoding error when representing the df\n",
    "\n",
    "df = df.reset_index()\n",
    "DF = df[~df['Fatal'].isin(['UNKNOWN']) # filter Fatalities\n",
    "  ][df['Species2'].isin(top_sharks)    # include only the most registered sharks\n",
    "    ][df['Type'].isin(['Provoked', 'Unprovoked']) # only provoked or unprovoked attacks\n",
    "     ][['Species2', 'Fatal', 'Type']]  # bring back only the 3 columns related to the hypothesis\n",
    "\n",
    "DF.head(10)"
   ]
  },
  {
   "cell_type": "code",
   "execution_count": 16,
   "metadata": {
    "scrolled": true
   },
   "outputs": [
    {
     "data": {
      "text/html": [
       "<div>\n",
       "<style scoped>\n",
       "    .dataframe tbody tr th:only-of-type {\n",
       "        vertical-align: middle;\n",
       "    }\n",
       "\n",
       "    .dataframe tbody tr th {\n",
       "        vertical-align: top;\n",
       "    }\n",
       "\n",
       "    .dataframe thead th {\n",
       "        text-align: right;\n",
       "    }\n",
       "</style>\n",
       "<table border=\"1\" class=\"dataframe\">\n",
       "  <thead>\n",
       "    <tr style=\"text-align: right;\">\n",
       "      <th></th>\n",
       "      <th></th>\n",
       "      <th>Fatal</th>\n",
       "    </tr>\n",
       "    <tr>\n",
       "      <th>Species2</th>\n",
       "      <th>Type</th>\n",
       "      <th></th>\n",
       "    </tr>\n",
       "  </thead>\n",
       "  <tbody>\n",
       "    <tr>\n",
       "      <th rowspan=\"2\" valign=\"top\">Bull shark</th>\n",
       "      <th>Provoked</th>\n",
       "      <td>7</td>\n",
       "    </tr>\n",
       "    <tr>\n",
       "      <th>Unprovoked</th>\n",
       "      <td>160</td>\n",
       "    </tr>\n",
       "    <tr>\n",
       "      <th rowspan=\"2\" valign=\"top\">Nurse shark</th>\n",
       "      <th>Provoked</th>\n",
       "      <td>56</td>\n",
       "    </tr>\n",
       "    <tr>\n",
       "      <th>Unprovoked</th>\n",
       "      <td>35</td>\n",
       "    </tr>\n",
       "    <tr>\n",
       "      <th rowspan=\"2\" valign=\"top\">Reef shark</th>\n",
       "      <th>Provoked</th>\n",
       "      <td>9</td>\n",
       "    </tr>\n",
       "    <tr>\n",
       "      <th>Unprovoked</th>\n",
       "      <td>55</td>\n",
       "    </tr>\n",
       "    <tr>\n",
       "      <th rowspan=\"2\" valign=\"top\">Tiger shark</th>\n",
       "      <th>Provoked</th>\n",
       "      <td>23</td>\n",
       "    </tr>\n",
       "    <tr>\n",
       "      <th>Unprovoked</th>\n",
       "      <td>226</td>\n",
       "    </tr>\n",
       "    <tr>\n",
       "      <th rowspan=\"2\" valign=\"top\">White shark</th>\n",
       "      <th>Provoked</th>\n",
       "      <td>26</td>\n",
       "    </tr>\n",
       "    <tr>\n",
       "      <th>Unprovoked</th>\n",
       "      <td>472</td>\n",
       "    </tr>\n",
       "  </tbody>\n",
       "</table>\n",
       "</div>"
      ],
      "text/plain": [
       "                        Fatal\n",
       "Species2    Type             \n",
       "Bull shark  Provoked        7\n",
       "            Unprovoked    160\n",
       "Nurse shark Provoked       56\n",
       "            Unprovoked     35\n",
       "Reef shark  Provoked        9\n",
       "            Unprovoked     55\n",
       "Tiger shark Provoked       23\n",
       "            Unprovoked    226\n",
       "White shark Provoked       26\n",
       "            Unprovoked    472"
      ]
     },
     "execution_count": 16,
     "metadata": {},
     "output_type": "execute_result"
    }
   ],
   "source": [
    "# Group the new df by ammount of rows with complete data\n",
    "DF.groupby(['Species2', 'Type']).agg({'Fatal':'count'})"
   ]
  },
  {
   "cell_type": "markdown",
   "metadata": {},
   "source": [
    "### 🦈️ Create a new column that turns `Fatalities` into `booleans`.\n",
    "### - `x: True if 'Y' else False`"
   ]
  },
  {
   "cell_type": "code",
   "execution_count": 17,
   "metadata": {},
   "outputs": [
    {
     "data": {
      "text/html": [
       "<div>\n",
       "<style scoped>\n",
       "    .dataframe tbody tr th:only-of-type {\n",
       "        vertical-align: middle;\n",
       "    }\n",
       "\n",
       "    .dataframe tbody tr th {\n",
       "        vertical-align: top;\n",
       "    }\n",
       "\n",
       "    .dataframe thead th {\n",
       "        text-align: right;\n",
       "    }\n",
       "</style>\n",
       "<table border=\"1\" class=\"dataframe\">\n",
       "  <thead>\n",
       "    <tr style=\"text-align: right;\">\n",
       "      <th></th>\n",
       "      <th>Species2</th>\n",
       "      <th>Fatal</th>\n",
       "      <th>Type</th>\n",
       "      <th>Victim_died</th>\n",
       "      <th>Victim_survived</th>\n",
       "    </tr>\n",
       "  </thead>\n",
       "  <tbody>\n",
       "    <tr>\n",
       "      <th>4</th>\n",
       "      <td>Tiger shark</td>\n",
       "      <td>N</td>\n",
       "      <td>Provoked</td>\n",
       "      <td>False</td>\n",
       "      <td>True</td>\n",
       "    </tr>\n",
       "    <tr>\n",
       "      <th>6</th>\n",
       "      <td>Tiger shark</td>\n",
       "      <td>Y</td>\n",
       "      <td>Unprovoked</td>\n",
       "      <td>True</td>\n",
       "      <td>False</td>\n",
       "    </tr>\n",
       "    <tr>\n",
       "      <th>8</th>\n",
       "      <td>Bull shark</td>\n",
       "      <td>N</td>\n",
       "      <td>Unprovoked</td>\n",
       "      <td>False</td>\n",
       "      <td>True</td>\n",
       "    </tr>\n",
       "    <tr>\n",
       "      <th>10</th>\n",
       "      <td>Reef shark</td>\n",
       "      <td>N</td>\n",
       "      <td>Provoked</td>\n",
       "      <td>False</td>\n",
       "      <td>True</td>\n",
       "    </tr>\n",
       "    <tr>\n",
       "      <th>14</th>\n",
       "      <td>Nurse shark</td>\n",
       "      <td>N</td>\n",
       "      <td>Provoked</td>\n",
       "      <td>False</td>\n",
       "      <td>True</td>\n",
       "    </tr>\n",
       "  </tbody>\n",
       "</table>\n",
       "</div>"
      ],
      "text/plain": [
       "       Species2 Fatal        Type  Victim_died  Victim_survived\n",
       "4   Tiger shark     N    Provoked        False             True\n",
       "6   Tiger shark     Y  Unprovoked         True            False\n",
       "8    Bull shark     N  Unprovoked        False             True\n",
       "10   Reef shark     N    Provoked        False             True\n",
       "14  Nurse shark     N    Provoked        False             True"
      ]
     },
     "execution_count": 17,
     "metadata": {},
     "output_type": "execute_result"
    }
   ],
   "source": [
    "DF['Victim_died'] = np.where(DF.Fatal.isin(['Y']), True, False)\n",
    "DF['Victim_survived'] = np.where(DF.Fatal.isin(['N']), True, False)\n",
    "\n",
    "DF.head()"
   ]
  },
  {
   "cell_type": "code",
   "execution_count": 18,
   "metadata": {},
   "outputs": [
    {
     "data": {
      "text/html": [
       "<div>\n",
       "<style scoped>\n",
       "    .dataframe tbody tr th:only-of-type {\n",
       "        vertical-align: middle;\n",
       "    }\n",
       "\n",
       "    .dataframe tbody tr th {\n",
       "        vertical-align: top;\n",
       "    }\n",
       "\n",
       "    .dataframe thead th {\n",
       "        text-align: right;\n",
       "    }\n",
       "</style>\n",
       "<table border=\"1\" class=\"dataframe\">\n",
       "  <thead>\n",
       "    <tr style=\"text-align: right;\">\n",
       "      <th></th>\n",
       "      <th></th>\n",
       "      <th>Victim_died</th>\n",
       "    </tr>\n",
       "    <tr>\n",
       "      <th>Species2</th>\n",
       "      <th>Type</th>\n",
       "      <th></th>\n",
       "    </tr>\n",
       "  </thead>\n",
       "  <tbody>\n",
       "    <tr>\n",
       "      <th rowspan=\"2\" valign=\"top\">Bull shark</th>\n",
       "      <th>Provoked</th>\n",
       "      <td>0.0</td>\n",
       "    </tr>\n",
       "    <tr>\n",
       "      <th>Unprovoked</th>\n",
       "      <td>35.0</td>\n",
       "    </tr>\n",
       "    <tr>\n",
       "      <th rowspan=\"2\" valign=\"top\">Nurse shark</th>\n",
       "      <th>Provoked</th>\n",
       "      <td>0.0</td>\n",
       "    </tr>\n",
       "    <tr>\n",
       "      <th>Unprovoked</th>\n",
       "      <td>0.0</td>\n",
       "    </tr>\n",
       "    <tr>\n",
       "      <th rowspan=\"2\" valign=\"top\">Reef shark</th>\n",
       "      <th>Provoked</th>\n",
       "      <td>0.0</td>\n",
       "    </tr>\n",
       "    <tr>\n",
       "      <th>Unprovoked</th>\n",
       "      <td>0.0</td>\n",
       "    </tr>\n",
       "    <tr>\n",
       "      <th rowspan=\"2\" valign=\"top\">Tiger shark</th>\n",
       "      <th>Provoked</th>\n",
       "      <td>0.0</td>\n",
       "    </tr>\n",
       "    <tr>\n",
       "      <th>Unprovoked</th>\n",
       "      <td>62.0</td>\n",
       "    </tr>\n",
       "    <tr>\n",
       "      <th rowspan=\"2\" valign=\"top\">White shark</th>\n",
       "      <th>Provoked</th>\n",
       "      <td>0.0</td>\n",
       "    </tr>\n",
       "    <tr>\n",
       "      <th>Unprovoked</th>\n",
       "      <td>137.0</td>\n",
       "    </tr>\n",
       "  </tbody>\n",
       "</table>\n",
       "</div>"
      ],
      "text/plain": [
       "                        Victim_died\n",
       "Species2    Type                   \n",
       "Bull shark  Provoked            0.0\n",
       "            Unprovoked         35.0\n",
       "Nurse shark Provoked            0.0\n",
       "            Unprovoked          0.0\n",
       "Reef shark  Provoked            0.0\n",
       "            Unprovoked          0.0\n",
       "Tiger shark Provoked            0.0\n",
       "            Unprovoked         62.0\n",
       "White shark Provoked            0.0\n",
       "            Unprovoked        137.0"
      ]
     },
     "execution_count": 18,
     "metadata": {},
     "output_type": "execute_result"
    }
   ],
   "source": [
    "# Count deaths per each possible scenario\n",
    "Hypothesis = DF.groupby(['Species2', 'Type']).agg({'Victim_died':'sum'})\n",
    "Hypothesis"
   ]
  },
  {
   "cell_type": "code",
   "execution_count": 19,
   "metadata": {
    "scrolled": true
   },
   "outputs": [
    {
     "data": {
      "text/plain": [
       "<matplotlib.axes._subplots.AxesSubplot at 0x7f19a4b9f450>"
      ]
     },
     "execution_count": 19,
     "metadata": {},
     "output_type": "execute_result"
    },
    {
     "data": {
      "image/png": "[encoded data removed]",
      "text/plain": [
       "<Figure size 432x288 with 1 Axes>"
      ]
     },
     "metadata": {
      "needs_background": "light"
     },
     "output_type": "display_data"
    }
   ],
   "source": [
    "Hypothesis.plot.bar()"
   ]
  },
  {
   "cell_type": "markdown",
   "metadata": {},
   "source": [
    "<br><br>\n",
    "# 🏊️ Apparently, there is not a single case of a `Provoked` attack to a `top killer` that resulted in a documented `Fatal` incident\n",
    "### This did not seem like an intuitive answer, so I decided to dig a bit deeper into the available data.\n",
    "<br><br>"
   ]
  },
  {
   "cell_type": "markdown",
   "metadata": {},
   "source": [
    "![shark species](INPUT/species.jpg)"
   ]
  },
  {
   "cell_type": "markdown",
   "metadata": {},
   "source": [
    "<center> <h1> 🦈️ Nurse Shark"
   ]
  },
  {
   "cell_type": "markdown",
   "metadata": {},
   "source": [
    "![Nurse Sharks](INPUT/nurse-shark-swimming.jpg)\n",
    "![Nurse Sharks](INPUT/nurse-shark.jpg)\n",
    "\n",
    "## 🦈️ Fatality of nurse shark attacks "
   ]
  },
  {
   "cell_type": "code",
   "execution_count": 20,
   "metadata": {
    "scrolled": false
   },
   "outputs": [
    {
     "data": {
      "text/plain": [
       "<matplotlib.axes._subplots.AxesSubplot at 0x7f19a4b7b050>"
      ]
     },
     "execution_count": 20,
     "metadata": {},
     "output_type": "execute_result"
    },
    {
     "data": {
      "image/png": "[encoded data removed]",
      "text/plain": [
       "<Figure size 432x288 with 1 Axes>"
      ]
     },
     "metadata": {
      "needs_background": "light"
     },
     "output_type": "display_data"
    }
   ],
   "source": [
    "# White shark attacks, provoked vs not provoked\n",
    "DF.Fatal[df.Species2.isin(['Nurse shark'])].value_counts().plot.bar()"
   ]
  },
  {
   "cell_type": "code",
   "execution_count": 21,
   "metadata": {
    "scrolled": true
   },
   "outputs": [
    {
     "data": {
      "text/plain": [
       "<matplotlib.axes._subplots.AxesSubplot at 0x7f19a4a91d50>"
      ]
     },
     "execution_count": 21,
     "metadata": {},
     "output_type": "execute_result"
    },
    {
     "data": {
      "image/png": "[encoded data removed]",
      "text/plain": [
       "<Figure size 432x288 with 1 Axes>"
      ]
     },
     "metadata": {
      "needs_background": "light"
     },
     "output_type": "display_data"
    }
   ],
   "source": [
    "DF.Type[df.Species2.isin(['Nurse shark'])].value_counts().plot.bar(color=('red','blue'))"
   ]
  },
  {
   "cell_type": "code",
   "execution_count": 22,
   "metadata": {
    "scrolled": true
   },
   "outputs": [
    {
     "data": {
      "text/plain": [
       "<matplotlib.axes._subplots.AxesSubplot at 0x7f19a4b66e10>"
      ]
     },
     "execution_count": 22,
     "metadata": {},
     "output_type": "execute_result"
    },
    {
     "data": {
      "image/png": "[encoded data removed]",
      "text/plain": [
       "<Figure size 432x288 with 1 Axes>"
      ]
     },
     "metadata": {
      "needs_background": "light"
     },
     "output_type": "display_data"
    }
   ],
   "source": [
    "# Provoked attacks by species\n",
    "DF.Species2[df.Type.isin(['Provoked'])].value_counts().plot.bar()"
   ]
  },
  {
   "cell_type": "markdown",
   "metadata": {},
   "source": [
    "<center> <h1> 🦈️ Reef Shark"
   ]
  },
  {
   "cell_type": "markdown",
   "metadata": {},
   "source": [
    "![White Shark Fatality](INPUT/reef-shark.jpg)"
   ]
  },
  {
   "cell_type": "code",
   "execution_count": 23,
   "metadata": {
    "scrolled": true
   },
   "outputs": [
    {
     "data": {
      "text/plain": [
       "<matplotlib.axes._subplots.AxesSubplot at 0x7f19a4acea90>"
      ]
     },
     "execution_count": 23,
     "metadata": {},
     "output_type": "execute_result"
    },
    {
     "data": {
      "image/png": "[encoded data removed]",
      "text/plain": [
       "<Figure size 432x288 with 1 Axes>"
      ]
     },
     "metadata": {
      "needs_background": "light"
     },
     "output_type": "display_data"
    }
   ],
   "source": [
    "# White shark attacks, provoked vs not provoked\n",
    "DF.Fatal[df.Species2.isin(['Reef shark'])].value_counts().plot.bar()"
   ]
  },
  {
   "cell_type": "code",
   "execution_count": 24,
   "metadata": {
    "scrolled": true
   },
   "outputs": [
    {
     "data": {
      "text/plain": [
       "<matplotlib.axes._subplots.AxesSubplot at 0x7f19a4969910>"
      ]
     },
     "execution_count": 24,
     "metadata": {},
     "output_type": "execute_result"
    },
    {
     "data": {
      "image/png": "[encoded data removed]",
      "text/plain": [
       "<Figure size 432x288 with 1 Axes>"
      ]
     },
     "metadata": {
      "needs_background": "light"
     },
     "output_type": "display_data"
    }
   ],
   "source": [
    "# White shark attacks, provoked vs not provoked\n",
    "DF.Type[df.Species2.isin(['Reef shark'])].value_counts().plot.bar(color=('blue', 'red'))"
   ]
  },
  {
   "cell_type": "markdown",
   "metadata": {},
   "source": [
    "<center> <h1> 🦈️ Tiger Shark"
   ]
  },
  {
   "cell_type": "markdown",
   "metadata": {},
   "source": [
    "![White Shark Fatality](INPUT/tiger-shark.jpg)"
   ]
  },
  {
   "cell_type": "code",
   "execution_count": 25,
   "metadata": {
    "scrolled": true
   },
   "outputs": [
    {
     "data": {
      "text/plain": [
       "<matplotlib.axes._subplots.AxesSubplot at 0x7f19a48fc750>"
      ]
     },
     "execution_count": 25,
     "metadata": {},
     "output_type": "execute_result"
    },
    {
     "data": {
      "image/png": "[encoded data removed]",
      "text/plain": [
       "<Figure size 432x288 with 1 Axes>"
      ]
     },
     "metadata": {
      "needs_background": "light"
     },
     "output_type": "display_data"
    }
   ],
   "source": [
    "# White shark attacks, provoked vs not provoked\n",
    "DF.Fatal[df.Species2.isin(['Tiger shark'])].value_counts().plot.bar(color=('blue', 'red'))"
   ]
  },
  {
   "cell_type": "code",
   "execution_count": 26,
   "metadata": {
    "scrolled": true
   },
   "outputs": [
    {
     "data": {
      "text/plain": [
       "<matplotlib.axes._subplots.AxesSubplot at 0x7f19a49af2d0>"
      ]
     },
     "execution_count": 26,
     "metadata": {},
     "output_type": "execute_result"
    },
    {
     "data": {
      "image/png": "[encoded data removed]",
      "text/plain": [
       "<Figure size 432x288 with 1 Axes>"
      ]
     },
     "metadata": {
      "needs_background": "light"
     },
     "output_type": "display_data"
    }
   ],
   "source": [
    "# White shark attacks, provoked vs not provoked\n",
    "DF.Type[df.Species2.isin(['Tiger shark'])].value_counts().plot.bar(color=('blue', 'red'))"
   ]
  },
  {
   "cell_type": "markdown",
   "metadata": {},
   "source": [
    "<center> <h1> 🦈️ Bull Shark"
   ]
  },
  {
   "cell_type": "markdown",
   "metadata": {},
   "source": [
    "![White Shark Fatality](INPUT/bull-shark.jpg)"
   ]
  },
  {
   "cell_type": "code",
   "execution_count": 27,
   "metadata": {
    "scrolled": true
   },
   "outputs": [
    {
     "data": {
      "text/plain": [
       "<matplotlib.axes._subplots.AxesSubplot at 0x7f19a4aaf210>"
      ]
     },
     "execution_count": 27,
     "metadata": {},
     "output_type": "execute_result"
    },
    {
     "data": {
      "image/png": "[encoded data removed]",
      "text/plain": [
       "<Figure size 432x288 with 1 Axes>"
      ]
     },
     "metadata": {
      "needs_background": "light"
     },
     "output_type": "display_data"
    }
   ],
   "source": [
    "# White shark attacks, provoked vs not provoked\n",
    "DF.Fatal[df.Species2.isin(['Bull shark'])].value_counts().plot.bar(color=('blue', 'red'))"
   ]
  },
  {
   "cell_type": "code",
   "execution_count": 28,
   "metadata": {
    "scrolled": false
   },
   "outputs": [
    {
     "data": {
      "text/plain": [
       "<matplotlib.axes._subplots.AxesSubplot at 0x7f19a48fce90>"
      ]
     },
     "execution_count": 28,
     "metadata": {},
     "output_type": "execute_result"
    },
    {
     "data": {
      "image/png": "[encoded data removed]",
      "text/plain": [
       "<Figure size 432x288 with 1 Axes>"
      ]
     },
     "metadata": {
      "needs_background": "light"
     },
     "output_type": "display_data"
    }
   ],
   "source": [
    "# White shark attacks, provoked vs not provoked\n",
    "DF.Type[df.Species2.isin(['Bull shark'])].value_counts().plot.bar(color=('blue', 'red'))"
   ]
  },
  {
   "cell_type": "markdown",
   "metadata": {},
   "source": [
    "<center> <h1> 🦈️ White Shark"
   ]
  },
  {
   "cell_type": "markdown",
   "metadata": {},
   "source": [
    "![White Shark Fatality](INPUT/white-shark.jpg)"
   ]
  },
  {
   "cell_type": "markdown",
   "metadata": {},
   "source": [
    "## 🦈️ Fatalities - White shark"
   ]
  },
  {
   "cell_type": "code",
   "execution_count": 29,
   "metadata": {},
   "outputs": [
    {
     "data": {
      "text/plain": [
       "<matplotlib.axes._subplots.AxesSubplot at 0x7f19a46e9710>"
      ]
     },
     "execution_count": 29,
     "metadata": {},
     "output_type": "execute_result"
    },
    {
     "data": {
      "image/png": "[encoded data removed]",
      "text/plain": [
       "<Figure size 432x288 with 1 Axes>"
      ]
     },
     "metadata": {
      "needs_background": "light"
     },
     "output_type": "display_data"
    }
   ],
   "source": [
    "DF.Fatal[df.Species2.isin(['White shark'])].value_counts().plot.bar(color=('blue', 'red'))"
   ]
  },
  {
   "cell_type": "markdown",
   "metadata": {},
   "source": [
    "## 🦈️ Type of attacks - White shark"
   ]
  },
  {
   "cell_type": "code",
   "execution_count": 30,
   "metadata": {
    "scrolled": false
   },
   "outputs": [
    {
     "data": {
      "text/plain": [
       "<matplotlib.axes._subplots.AxesSubplot at 0x7f19a46665d0>"
      ]
     },
     "execution_count": 30,
     "metadata": {},
     "output_type": "execute_result"
    },
    {
     "data": {
      "image/png": "[encoded data removed]",
      "text/plain": [
       "<Figure size 432x288 with 1 Axes>"
      ]
     },
     "metadata": {
      "needs_background": "light"
     },
     "output_type": "display_data"
    }
   ],
   "source": [
    "# White shark attacks, provoked vs not provoked\n",
    "DF.Type[df.Species2.isin(['White shark'])].value_counts().plot.bar(color=('blue', 'red'))"
   ]
  },
  {
   "cell_type": "markdown",
   "metadata": {},
   "source": [
    "# 🌊️ Conclusion: Fatality/Survival ratio"
   ]
  },
  {
   "cell_type": "code",
   "execution_count": 31,
   "metadata": {
    "scrolled": true
   },
   "outputs": [],
   "source": [
    "# All species represented\n",
    "only_sharks = df[~df.Species2.isin(['INVALID ENTRY',\n",
    "                               'OTHER / NOT KNOWN',\n",
    "                               'HOAX',\n",
    "                              'DROWNED',\n",
    "                              'STINGRAY'])]"
   ]
  },
  {
   "cell_type": "code",
   "execution_count": 32,
   "metadata": {
    "scrolled": true
   },
   "outputs": [
    {
     "data": {
      "text/html": [
       "<div>\n",
       "<style scoped>\n",
       "    .dataframe tbody tr th:only-of-type {\n",
       "        vertical-align: middle;\n",
       "    }\n",
       "\n",
       "    .dataframe tbody tr th {\n",
       "        vertical-align: top;\n",
       "    }\n",
       "\n",
       "    .dataframe thead th {\n",
       "        text-align: right;\n",
       "    }\n",
       "</style>\n",
       "<table border=\"1\" class=\"dataframe\">\n",
       "  <thead>\n",
       "    <tr style=\"text-align: right;\">\n",
       "      <th></th>\n",
       "      <th>index</th>\n",
       "      <th>CaseNum</th>\n",
       "      <th>Date</th>\n",
       "      <th>Year</th>\n",
       "      <th>Type</th>\n",
       "      <th>Country</th>\n",
       "      <th>Area</th>\n",
       "      <th>Location</th>\n",
       "      <th>Activity</th>\n",
       "      <th>Sex</th>\n",
       "      <th>Injury</th>\n",
       "      <th>Fatal</th>\n",
       "      <th>Species</th>\n",
       "      <th>Source</th>\n",
       "      <th>href</th>\n",
       "      <th>Species2</th>\n",
       "      <th>Activity2</th>\n",
       "    </tr>\n",
       "  </thead>\n",
       "  <tbody>\n",
       "    <tr>\n",
       "      <th>0</th>\n",
       "      <td>0</td>\n",
       "      <td>2018.06.25</td>\n",
       "      <td>25-Jun-2018</td>\n",
       "      <td>2018.0</td>\n",
       "      <td>Boat</td>\n",
       "      <td>USA</td>\n",
       "      <td>California</td>\n",
       "      <td>Oceanside, San Diego County</td>\n",
       "      <td>Paddling</td>\n",
       "      <td>F</td>\n",
       "      <td>No injury to occupant, outrigger canoe and pad...</td>\n",
       "      <td>N</td>\n",
       "      <td>White shark</td>\n",
       "      <td>R. Collier, GSAF</td>\n",
       "      <td>http://sharkattackfile.net/spreadsheets/pdf_di...</td>\n",
       "      <td>White shark</td>\n",
       "      <td>Paddling</td>\n",
       "    </tr>\n",
       "    <tr>\n",
       "      <th>4</th>\n",
       "      <td>4</td>\n",
       "      <td>2018.06.04</td>\n",
       "      <td>04-Jun-2018</td>\n",
       "      <td>2018.0</td>\n",
       "      <td>Provoked</td>\n",
       "      <td>MEXICO</td>\n",
       "      <td>Colima</td>\n",
       "      <td>La Ticla</td>\n",
       "      <td>Free diving</td>\n",
       "      <td>M</td>\n",
       "      <td>Lacerations to leg &amp; hand shark PROVOKED INCIDENT</td>\n",
       "      <td>N</td>\n",
       "      <td>Tiger shark, 3m</td>\n",
       "      <td>A .Kipper</td>\n",
       "      <td>http://sharkattackfile.net/spreadsheets/pdf_di...</td>\n",
       "      <td>Tiger shark</td>\n",
       "      <td>Diving</td>\n",
       "    </tr>\n",
       "    <tr>\n",
       "      <th>6</th>\n",
       "      <td>6</td>\n",
       "      <td>2018.06.03.a</td>\n",
       "      <td>03-Jun-2018</td>\n",
       "      <td>2018.0</td>\n",
       "      <td>Unprovoked</td>\n",
       "      <td>BRAZIL</td>\n",
       "      <td>Pernambuco</td>\n",
       "      <td>Piedade Beach, Recife</td>\n",
       "      <td>Swimming</td>\n",
       "      <td>M</td>\n",
       "      <td>FATAL</td>\n",
       "      <td>Y</td>\n",
       "      <td>Tiger shark</td>\n",
       "      <td>Diario de Pernambuco, 6/4/2018</td>\n",
       "      <td>http://sharkattackfile.net/spreadsheets/pdf_di...</td>\n",
       "      <td>Tiger shark</td>\n",
       "      <td>Swimming</td>\n",
       "    </tr>\n",
       "    <tr>\n",
       "      <th>7</th>\n",
       "      <td>7</td>\n",
       "      <td>2018.05.27</td>\n",
       "      <td>27-May-2018</td>\n",
       "      <td>2018.0</td>\n",
       "      <td>Unprovoked</td>\n",
       "      <td>USA</td>\n",
       "      <td>Florida</td>\n",
       "      <td>Lighhouse Point Park, Ponce Inlet, Volusia County</td>\n",
       "      <td>Fishing</td>\n",
       "      <td>M</td>\n",
       "      <td>Minor injury to foot. PROVOKED INCIDENT</td>\n",
       "      <td>N</td>\n",
       "      <td>Lemon shark, 3'</td>\n",
       "      <td>K. McMurray, TrackingSharks.com</td>\n",
       "      <td>http://sharkattackfile.net/spreadsheets/pdf_di...</td>\n",
       "      <td>Lemon shark</td>\n",
       "      <td>Fishing</td>\n",
       "    </tr>\n",
       "    <tr>\n",
       "      <th>8</th>\n",
       "      <td>8</td>\n",
       "      <td>2018.05.26.b</td>\n",
       "      <td>26-May-2018</td>\n",
       "      <td>2018.0</td>\n",
       "      <td>Unprovoked</td>\n",
       "      <td>USA</td>\n",
       "      <td>Florida</td>\n",
       "      <td>Cocoa Beach, Brevard  County</td>\n",
       "      <td>Walking</td>\n",
       "      <td>M</td>\n",
       "      <td>Lower left leg bitten</td>\n",
       "      <td>N</td>\n",
       "      <td>Bull shark, 6'</td>\n",
       "      <td>K.McMurray, TrackingSharks.com</td>\n",
       "      <td>http://sharkattackfile.net/spreadsheets/pdf_di...</td>\n",
       "      <td>Bull shark</td>\n",
       "      <td>Walking</td>\n",
       "    </tr>\n",
       "  </tbody>\n",
       "</table>\n",
       "</div>"
      ],
      "text/plain": [
       "   index       CaseNum         Date    Year        Type Country        Area  \\\n",
       "0      0    2018.06.25  25-Jun-2018  2018.0        Boat     USA  California   \n",
       "4      4    2018.06.04  04-Jun-2018  2018.0    Provoked  MEXICO      Colima   \n",
       "6      6  2018.06.03.a  03-Jun-2018  2018.0  Unprovoked  BRAZIL  Pernambuco   \n",
       "7      7    2018.05.27  27-May-2018  2018.0  Unprovoked     USA     Florida   \n",
       "8      8  2018.05.26.b  26-May-2018  2018.0  Unprovoked     USA     Florida   \n",
       "\n",
       "                                            Location     Activity Sex  \\\n",
       "0                        Oceanside, San Diego County     Paddling   F   \n",
       "4                                           La Ticla  Free diving   M   \n",
       "6                              Piedade Beach, Recife     Swimming   M   \n",
       "7  Lighhouse Point Park, Ponce Inlet, Volusia County      Fishing   M   \n",
       "8                       Cocoa Beach, Brevard  County      Walking   M   \n",
       "\n",
       "                                              Injury Fatal          Species  \\\n",
       "0  No injury to occupant, outrigger canoe and pad...     N      White shark   \n",
       "4  Lacerations to leg & hand shark PROVOKED INCIDENT     N  Tiger shark, 3m   \n",
       "6                                              FATAL     Y      Tiger shark   \n",
       "7            Minor injury to foot. PROVOKED INCIDENT     N  Lemon shark, 3'   \n",
       "8                              Lower left leg bitten     N   Bull shark, 6'   \n",
       "\n",
       "                            Source  \\\n",
       "0                 R. Collier, GSAF   \n",
       "4                        A .Kipper   \n",
       "6   Diario de Pernambuco, 6/4/2018   \n",
       "7  K. McMurray, TrackingSharks.com   \n",
       "8   K.McMurray, TrackingSharks.com   \n",
       "\n",
       "                                                href     Species2 Activity2  \n",
       "0  http://sharkattackfile.net/spreadsheets/pdf_di...  White shark  Paddling  \n",
       "4  http://sharkattackfile.net/spreadsheets/pdf_di...  Tiger shark    Diving  \n",
       "6  http://sharkattackfile.net/spreadsheets/pdf_di...  Tiger shark  Swimming  \n",
       "7  http://sharkattackfile.net/spreadsheets/pdf_di...  Lemon shark   Fishing  \n",
       "8  http://sharkattackfile.net/spreadsheets/pdf_di...   Bull shark   Walking  "
      ]
     },
     "execution_count": 32,
     "metadata": {},
     "output_type": "execute_result"
    }
   ],
   "source": [
    "only_sharks.head()"
   ]
  },
  {
   "cell_type": "code",
   "execution_count": 33,
   "metadata": {
    "scrolled": true
   },
   "outputs": [
    {
     "name": "stderr",
     "output_type": "stream",
     "text": [
      "/home/rh/.local/lib/python2.7/site-packages/ipykernel_launcher.py:2: SettingWithCopyWarning: \n",
      "A value is trying to be set on a copy of a slice from a DataFrame.\n",
      "Try using .loc[row_indexer,col_indexer] = value instead\n",
      "\n",
      "See the caveats in the documentation: http://pandas.pydata.org/pandas-docs/stable/indexing.html#indexing-view-versus-copy\n",
      "  \n",
      "/home/rh/.local/lib/python2.7/site-packages/ipykernel_launcher.py:3: SettingWithCopyWarning: \n",
      "A value is trying to be set on a copy of a slice from a DataFrame.\n",
      "Try using .loc[row_indexer,col_indexer] = value instead\n",
      "\n",
      "See the caveats in the documentation: http://pandas.pydata.org/pandas-docs/stable/indexing.html#indexing-view-versus-copy\n",
      "  This is separate from the ipykernel package so we can avoid doing imports until\n"
     ]
    },
    {
     "data": {
      "text/html": [
       "<div>\n",
       "<style scoped>\n",
       "    .dataframe tbody tr th:only-of-type {\n",
       "        vertical-align: middle;\n",
       "    }\n",
       "\n",
       "    .dataframe tbody tr th {\n",
       "        vertical-align: top;\n",
       "    }\n",
       "\n",
       "    .dataframe thead th {\n",
       "        text-align: right;\n",
       "    }\n",
       "</style>\n",
       "<table border=\"1\" class=\"dataframe\">\n",
       "  <thead>\n",
       "    <tr style=\"text-align: right;\">\n",
       "      <th></th>\n",
       "      <th>Victim_survived</th>\n",
       "      <th>Victim_died</th>\n",
       "      <th>Fatality_ratio</th>\n",
       "    </tr>\n",
       "    <tr>\n",
       "      <th>Type</th>\n",
       "      <th></th>\n",
       "      <th></th>\n",
       "      <th></th>\n",
       "    </tr>\n",
       "  </thead>\n",
       "  <tbody>\n",
       "    <tr>\n",
       "      <th>Boat</th>\n",
       "      <td>159</td>\n",
       "      <td>3</td>\n",
       "      <td>0.018868</td>\n",
       "    </tr>\n",
       "    <tr>\n",
       "      <th>Invalid</th>\n",
       "      <td>2</td>\n",
       "      <td>1</td>\n",
       "      <td>0.500000</td>\n",
       "    </tr>\n",
       "    <tr>\n",
       "      <th>Provoked</th>\n",
       "      <td>239</td>\n",
       "      <td>1</td>\n",
       "      <td>0.004184</td>\n",
       "    </tr>\n",
       "    <tr>\n",
       "      <th>Sea Disaster</th>\n",
       "      <td>8</td>\n",
       "      <td>11</td>\n",
       "      <td>1.375000</td>\n",
       "    </tr>\n",
       "    <tr>\n",
       "      <th>Unprovoked</th>\n",
       "      <td>1069</td>\n",
       "      <td>262</td>\n",
       "      <td>0.245089</td>\n",
       "    </tr>\n",
       "  </tbody>\n",
       "</table>\n",
       "</div>"
      ],
      "text/plain": [
       "              Victim_survived  Victim_died  Fatality_ratio\n",
       "Type                                                      \n",
       "Boat                      159            3        0.018868\n",
       "Invalid                     2            1        0.500000\n",
       "Provoked                  239            1        0.004184\n",
       "Sea Disaster                8           11        1.375000\n",
       "Unprovoked               1069          262        0.245089"
      ]
     },
     "execution_count": 33,
     "metadata": {},
     "output_type": "execute_result"
    }
   ],
   "source": [
    "# 🌊️ All species represented \n",
    "only_sharks['Victim_died'] = np.where(only_sharks.Fatal.isin(['Y']), 1, 0)\n",
    "only_sharks['Victim_survived'] = np.where(only_sharks.Fatal.isin(['N']), 1, 0)\n",
    "#only_sharks['Fatality_ratio'] = only_sharks['Victim_died'] / only_sharks['Victim_survived']\n",
    "DFH = only_sharks.groupby(['Type']).agg({'Victim_died':'sum', 'Victim_survived':'sum'})\n",
    "DFH['Fatality_ratio'] = DFH['Victim_died'] / DFH['Victim_survived']\n",
    "DFH"
   ]
  },
  {
   "cell_type": "code",
   "execution_count": 34,
   "metadata": {},
   "outputs": [
    {
     "data": {
      "text/plain": [
       "<matplotlib.axes._subplots.AxesSubplot at 0x7f19a45dbc10>"
      ]
     },
     "execution_count": 34,
     "metadata": {},
     "output_type": "execute_result"
    },
    {
     "data": {
      "image/png": "[encoded data removed]",
      "text/plain": [
       "<Figure size 432x288 with 1 Axes>"
      ]
     },
     "metadata": {
      "needs_background": "light"
     },
     "output_type": "display_data"
    }
   ],
   "source": [
    "DFH.Fatality_ratio.sort_values(ascending=False).plot.bar(color=('grey', 'grey', 'blue', 'grey', 'red'))"
   ]
  },
  {
   "cell_type": "markdown",
   "metadata": {},
   "source": [
    "![Shark attacks, a project by Roberto Henríquez Perozo. Data Analytics Bootcamp at IronHack](INPUT/shark-attacks.png)\n"
   ]
  },
  {
   "cell_type": "markdown",
   "metadata": {},
   "source": [
    "<center> <h1>  Happy swimming <br> <br> 🦈️ <br><br><br>"
   ]
  }
 ],
 "metadata": {
  "kernelspec": {
   "display_name": "Python 3",
   "language": "python",
   "name": "python3"
  },
  "language_info": {
   "codemirror_mode": {
    "name": "ipython",
    "version": 2
   },
   "file_extension": ".py",
   "mimetype": "text/x-python",
   "name": "python",
   "nbconvert_exporter": "python",
   "pygments_lexer": "ipython2",
   "version": "2.7.17"
  }
 },
 "nbformat": 4,
 "nbformat_minor": 4
}
