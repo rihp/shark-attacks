{
 "cells": [
  {
   "cell_type": "markdown",
   "metadata": {},
   "source": [
    "![Shark attacks, a project by Roberto Henríquez Perozo. Data Analytics Bootcamp at IronHack](shark-attacks.png)\n",
    "\n",
    "<center>You can clone the repo of this project at <br>https://github.com/rihp/shark-attacks </center>"
   ]
  },
  {
   "cell_type": "markdown",
   "metadata": {},
   "source": [
    " <center><h1> PART II <br> Data analysis and hypothesis formulation</h1> </center>\n",
    " \n",
    " "
   ]
  },
  {
   "cell_type": "code",
   "execution_count": null,
   "metadata": {},
   "outputs": [],
   "source": [
    "# You should have an exported.csv file. \n",
    "# We generated it while following along the 'PART I' of this project. \n",
    "# Do you have it?\n",
    "!ls\n",
    "# If you don't, you can download the 'PART I' from: https://github.com/rihp/shark-attacks"
   ]
  },
  {
   "cell_type": "code",
   "execution_count": null,
   "metadata": {},
   "outputs": [],
   "source": [
    "# Importing modules\n",
    "import pandas as pd\n",
    "import random\n",
    "import matplotlib\n",
    "\n",
    "%matplotlib inline"
   ]
  },
  {
   "cell_type": "code",
   "execution_count": null,
   "metadata": {},
   "outputs": [],
   "source": [
    "# Loading the cleaned dataset as a dataframe\n",
    "df = pd.read_csv('exported.csv')\n",
    "df"
   ]
  },
  {
   "cell_type": "code",
   "execution_count": null,
   "metadata": {
    "scrolled": true
   },
   "outputs": [],
   "source": [
    "# Review the columns of the exported dataset\n",
    "df.columns"
   ]
  },
  {
   "cell_type": "markdown",
   "metadata": {},
   "source": [
    "# 🎣️  BASIC GRAPHS"
   ]
  },
  {
   "cell_type": "code",
   "execution_count": null,
   "metadata": {},
   "outputs": [],
   "source": [
    "# Total Fatalities\n",
    "s_fatal = df.Fatal.value_counts()\n",
    "s_fatal.plot.pie(title='Distribution of total fatalities')"
   ]
  },
  {
   "cell_type": "code",
   "execution_count": null,
   "metadata": {
    "scrolled": true
   },
   "outputs": [],
   "source": [
    "# Types of attack\n",
    "s_types = df.Type.value_counts()\n",
    "s_types.plot.pie(title='Distribution of all Types of attacks')"
   ]
  },
  {
   "cell_type": "code",
   "execution_count": null,
   "metadata": {},
   "outputs": [],
   "source": [
    "# This plot is a mess, don't graph it\n",
    "df.Location[df.Location.value_counts() > 20].value_counts().plot.pie()"
   ]
  },
  {
   "cell_type": "code",
   "execution_count": null,
   "metadata": {},
   "outputs": [],
   "source": [
    "# IDEA: make bins to filter the years when it happened"
   ]
  },
  {
   "cell_type": "code",
   "execution_count": null,
   "metadata": {
    "scrolled": true
   },
   "outputs": [],
   "source": [
    "Years2p = list(range(1800,2020,2))\n",
    "df.Year[df.Year.isin(Years2p)].value_counts().plot.bar()"
   ]
  },
  {
   "cell_type": "code",
   "execution_count": null,
   "metadata": {
    "scrolled": true
   },
   "outputs": [],
   "source": [
    "df[\"Decade\"] = pd.cut(df.Year,\n",
    "                            bins=[1800,1850,1900,1950,2000,2050])\n",
    "                            #, \n",
    "#                            labels=range(1800,2020,10))\n",
    "df.Decade.value_counts().plot.density()"
   ]
  },
  {
   "cell_type": "code",
   "execution_count": null,
   "metadata": {
    "scrolled": true
   },
   "outputs": [],
   "source": [
    "df.Species2[~df.Species2.isin(['INVALID ENTRY',\n",
    "                               'OTHER / NOT KNOWN'])\n",
    "           ].value_counts().plot.bar()"
   ]
  },
  {
   "cell_type": "code",
   "execution_count": null,
   "metadata": {
    "scrolled": true
   },
   "outputs": [],
   "source": [
    "df[~df['Fatal'].isin(['UNKNOWN'])][['Species2', 'Fatal']]"
   ]
  },
  {
   "cell_type": "markdown",
   "metadata": {},
   "source": [
    "# I want to make a new column that specifies, the species and if it was deadly or not\n",
    "Firts, I'll take any values which don't contribute to our research, and focus only on the deadliest species"
   ]
  },
  {
   "cell_type": "code",
   "execution_count": null,
   "metadata": {},
   "outputs": [],
   "source": [
    "fatals_filetred = ~df.Fatal.isin(['UNKNOWN'])"
   ]
  },
  {
   "cell_type": "code",
   "execution_count": null,
   "metadata": {},
   "outputs": [],
   "source": [
    "df.Species2.value_counts()"
   ]
  },
  {
   "cell_type": "code",
   "execution_count": null,
   "metadata": {
    "scrolled": true
   },
   "outputs": [],
   "source": [
    "# Define the sharks I want to consider\n",
    "killer_sharks =['White shark',\n",
    "                'Tiger shark',\n",
    "                'Bull shark',\n",
    "                'Nurse shark', \n",
    "                'Reef shark',\n",
    "                'Bronze whaler shark']\n",
    "\n",
    "# How many samples of each species are there?\n",
    "print(df.Species2[df.Species2.isin(killer_sharks)].value_counts())\n",
    "\n",
    "# Create a dataframe containing only the indexes with those species\n",
    "species_fatality = df[df.Species2.isin(killer_sharks)]\n",
    "#df.Species2.value_counts()"
   ]
  },
  {
   "cell_type": "code",
   "execution_count": null,
   "metadata": {},
   "outputs": [],
   "source": [
    "species_fatality = df[df.Species2.isin(killer_sharks)]"
   ]
  },
  {
   "cell_type": "code",
   "execution_count": null,
   "metadata": {
    "scrolled": false
   },
   "outputs": [],
   "source": [
    "species_fatality = species_fatality#.reset_index()\n",
    "species_fatality[['Fatal', 'Species2']]\n",
    "species_fatality[fatals_filetred]#.value_counts()"
   ]
  },
  {
   "cell_type": "code",
   "execution_count": null,
   "metadata": {},
   "outputs": [],
   "source": [
    "dfx = species_fatality[fatals_filetred]"
   ]
  },
  {
   "cell_type": "code",
   "execution_count": null,
   "metadata": {},
   "outputs": [],
   "source": [
    "dfx"
   ]
  },
  {
   "cell_type": "code",
   "execution_count": null,
   "metadata": {
    "scrolled": false
   },
   "outputs": [],
   "source": [
    "print(dfx.Fatal.value_counts())\n",
    "print()\n",
    "print(dfx.Species2.value_counts())"
   ]
  },
  {
   "cell_type": "markdown",
   "metadata": {},
   "source": [
    "# 🦈️At this point, the data is clean enough to create the plot\n",
    "## Grouping by Species, and then Fatality"
   ]
  },
  {
   "cell_type": "code",
   "execution_count": null,
   "metadata": {},
   "outputs": [],
   "source": [
    "import numpy as np"
   ]
  },
  {
   "cell_type": "code",
   "execution_count": null,
   "metadata": {},
   "outputs": [],
   "source": [
    "dfx['Victim_died'] = np.where(dfx.Fatal.isin(['Y']), True, False)\n",
    "dfx['Victim_survived'] = np.where(dfx.Fatal.isin(['N']), True, False)"
   ]
  },
  {
   "cell_type": "code",
   "execution_count": null,
   "metadata": {},
   "outputs": [],
   "source": [
    "toplot =dfx.groupby(['Species2','Fatal']).agg({'Victim_survived':'sum', 'Victim_died':'sum'})"
   ]
  },
  {
   "cell_type": "code",
   "execution_count": null,
   "metadata": {},
   "outputs": [],
   "source": [
    "toplot.plot.bar()"
   ]
  },
  {
   "cell_type": "code",
   "execution_count": null,
   "metadata": {},
   "outputs": [],
   "source": [
    "toplot"
   ]
  },
  {
   "cell_type": "code",
   "execution_count": null,
   "metadata": {},
   "outputs": [],
   "source": [
    "toplot.T.columns"
   ]
  },
  {
   "cell_type": "code",
   "execution_count": null,
   "metadata": {
    "scrolled": true
   },
   "outputs": [],
   "source": [
    "examine = 'White shark'\n",
    "display(toplot.T[f'{examine}'].plot.bar(title=f'{examine} mortality'))"
   ]
  },
  {
   "cell_type": "code",
   "execution_count": null,
   "metadata": {
    "scrolled": true
   },
   "outputs": [],
   "source": [
    "examine = 'Tiger shark'\n",
    "display(toplot.T[f'{examine}'].plot.bar(title=f'{examine} mortality'))"
   ]
  },
  {
   "cell_type": "code",
   "execution_count": null,
   "metadata": {
    "scrolled": true
   },
   "outputs": [],
   "source": [
    "examine = 'Bull shark'\n",
    "toplot.T[f'{examine}'].plot.bar(title=f'{examine} mortality')"
   ]
  },
  {
   "cell_type": "code",
   "execution_count": null,
   "metadata": {
    "scrolled": true
   },
   "outputs": [],
   "source": [
    "examine = 'Nurse shark'\n",
    "toplot.T[f'{examine}'].plot.bar(title=f'{examine} mortality')"
   ]
  },
  {
   "cell_type": "code",
   "execution_count": null,
   "metadata": {},
   "outputs": [],
   "source": []
  },
  {
   "cell_type": "code",
   "execution_count": null,
   "metadata": {},
   "outputs": [],
   "source": []
  },
  {
   "cell_type": "code",
   "execution_count": null,
   "metadata": {},
   "outputs": [],
   "source": []
  },
  {
   "cell_type": "code",
   "execution_count": null,
   "metadata": {},
   "outputs": [],
   "source": []
  },
  {
   "cell_type": "code",
   "execution_count": null,
   "metadata": {},
   "outputs": [],
   "source": []
  },
  {
   "cell_type": "code",
   "execution_count": null,
   "metadata": {},
   "outputs": [],
   "source": []
  },
  {
   "cell_type": "code",
   "execution_count": null,
   "metadata": {},
   "outputs": [],
   "source": []
  },
  {
   "cell_type": "code",
   "execution_count": null,
   "metadata": {},
   "outputs": [],
   "source": []
  },
  {
   "cell_type": "code",
   "execution_count": null,
   "metadata": {},
   "outputs": [],
   "source": []
  },
  {
   "cell_type": "code",
   "execution_count": null,
   "metadata": {},
   "outputs": [],
   "source": []
  },
  {
   "cell_type": "code",
   "execution_count": null,
   "metadata": {},
   "outputs": [],
   "source": [
    "dfx[['Species2','Fatal2']].groupby('Species2').agg({'Fatal':\"count\"})"
   ]
  },
  {
   "cell_type": "code",
   "execution_count": null,
   "metadata": {},
   "outputs": [],
   "source": []
  },
  {
   "cell_type": "code",
   "execution_count": null,
   "metadata": {
    "scrolled": true
   },
   "outputs": [],
   "source": [
    "sx = df.groupby([\"Fatal\", \"Species2\"]).agg({\"Date\":[\"min\", \"max\"]})\n",
    "sx"
   ]
  },
  {
   "cell_type": "code",
   "execution_count": null,
   "metadata": {},
   "outputs": [],
   "source": [
    "sx = df.groupby([\"Fatal\", \"Species2\"]).agg({\"Date\":[\"min\", \"max\"]})\n",
    "sx"
   ]
  },
  {
   "cell_type": "code",
   "execution_count": null,
   "metadata": {},
   "outputs": [],
   "source": [
    "def filt(x):\n",
    "    if x =='UNKNOWN':\n",
    "        return None\n",
    "    else:\n",
    "        return x\n",
    "df.reset_index()\n",
    "Fatal_na = df.Fatal.isin(['UNKNOWN'])\n",
    "Species_na = df.Species2.isin(['INVALID ENTRY', 'OTHER / NOT KNOWN'])\n",
    "sx = df.loc[~Fatal_na].groupby([\"Fatal\", \"Species2\"]).agg({\"Type\":\"count\"})\n",
    "sy = df.loc[~Species_na]\n",
    "# avoid.value_counts()\n",
    "#Species_na.value_counts()\n",
    "#df[~Fatal_na, ~Species_na]\n",
    "sp_na = df[~Species_na]\n",
    "df_nonull = sp_na[~Fatal_na]"
   ]
  },
  {
   "cell_type": "code",
   "execution_count": null,
   "metadata": {},
   "outputs": [],
   "source": [
    "df_ok = df_nonull.reset_index()\n",
    "# df_ok.head().plot.scatter(df_ok.Species2,df_ok.Fatal)"
   ]
  },
  {
   "cell_type": "code",
   "execution_count": null,
   "metadata": {},
   "outputs": [],
   "source": [
    "matplotlib.pyplot.scatter(df_nonull.Fatal, df_nonull.Species2)\n"
   ]
  },
  {
   "cell_type": "code",
   "execution_count": null,
   "metadata": {},
   "outputs": [],
   "source": []
  },
  {
   "cell_type": "code",
   "execution_count": null,
   "metadata": {},
   "outputs": [],
   "source": [
    "dfx = df[['Species2','Fatal']]\n",
    "dfx.isnull().sum()"
   ]
  },
  {
   "cell_type": "code",
   "execution_count": null,
   "metadata": {},
   "outputs": [],
   "source": [
    "avoid1 = ~df['Fatal'].isin(['UNKNOWN'])\n",
    "avoid2 = ~df['Species2'].isin(['OTHER / NOT KNOWN', 'INVALID ENTRY'])\n",
    "df2p = df[avoid1][avoid2][['Species2', 'Fatal']]\n",
    "#df2p.plot.bar('Fatal', 'Species2')"
   ]
  },
  {
   "cell_type": "code",
   "execution_count": null,
   "metadata": {},
   "outputs": [],
   "source": [
    "df2p.Fatal.values"
   ]
  },
  {
   "cell_type": "code",
   "execution_count": null,
   "metadata": {},
   "outputs": [],
   "source": [
    "df2p.Species2.values"
   ]
  },
  {
   "cell_type": "code",
   "execution_count": null,
   "metadata": {},
   "outputs": [],
   "source": [
    "Yes = (lambda x: True if x == 'Y' else False)\n",
    "df2p.groupby('Species2').agg({\"Fatal\" : Yes})"
   ]
  },
  {
   "cell_type": "code",
   "execution_count": null,
   "metadata": {},
   "outputs": [],
   "source": [
    "df.columns"
   ]
  },
  {
   "cell_type": "code",
   "execution_count": null,
   "metadata": {},
   "outputs": [],
   "source": []
  },
  {
   "cell_type": "code",
   "execution_count": null,
   "metadata": {},
   "outputs": [],
   "source": []
  }
 ],
 "metadata": {
  "kernelspec": {
   "display_name": "Python 3",
   "language": "python",
   "name": "python3"
  },
  "language_info": {
   "codemirror_mode": {
    "name": "ipython",
    "version": 2
   },
   "file_extension": ".py",
   "mimetype": "text/x-python",
   "name": "python",
   "nbconvert_exporter": "python",
   "pygments_lexer": "ipython2",
   "version": "2.7.17"
  }
 },
 "nbformat": 4,
 "nbformat_minor": 4
}
