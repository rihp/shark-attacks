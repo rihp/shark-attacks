{
 "cells": [
  {
   "cell_type": "markdown",
   "metadata": {},
   "source": [
    "![Shark attacks, a project by Roberto Henríquez Perozo. Data Analytics Bootcamp at IronHack](shark-attacks.png)\n",
    "\n",
    "<center>You can clone the repo of this project at <br>https://github.com/rihp/shark-attacks </center>"
   ]
  },
  {
   "cell_type": "markdown",
   "metadata": {},
   "source": [
    " <center><h1> PART II <br> Data analysis and hypothesis formulation</h1> </center>\n",
    " \n",
    " "
   ]
  },
  {
   "cell_type": "code",
   "execution_count": 1,
   "metadata": {},
   "outputs": [
    {
     "name": "stdout",
     "output_type": "stream",
     "text": [
      "analysis.ipynb\tclean.ipynb   README.md\r\n",
      "attacks.csv\texported.csv  shark-attacks.png\r\n"
     ]
    }
   ],
   "source": [
    "# You should have an exported.csv file. \n",
    "# We generated it while following along the 'PART I' of this project. \n",
    "# Do you have it?\n",
    "!ls\n",
    "# If you don't, you can download the 'PART I' from: https://github.com/rihp/shark-attacks"
   ]
  },
  {
   "cell_type": "code",
   "execution_count": 2,
   "metadata": {},
   "outputs": [
    {
     "data": {
      "text/html": [
       "<div>\n",
       "<style scoped>\n",
       "    .dataframe tbody tr th:only-of-type {\n",
       "        vertical-align: middle;\n",
       "    }\n",
       "\n",
       "    .dataframe tbody tr th {\n",
       "        vertical-align: top;\n",
       "    }\n",
       "\n",
       "    .dataframe thead th {\n",
       "        text-align: right;\n",
       "    }\n",
       "</style>\n",
       "<table border=\"1\" class=\"dataframe\">\n",
       "  <thead>\n",
       "    <tr style=\"text-align: right;\">\n",
       "      <th></th>\n",
       "      <th>Unnamed: 0</th>\n",
       "      <th>CaseNum</th>\n",
       "      <th>Date</th>\n",
       "      <th>Year</th>\n",
       "      <th>Type</th>\n",
       "      <th>Country</th>\n",
       "      <th>Area</th>\n",
       "      <th>Location</th>\n",
       "      <th>Activity</th>\n",
       "      <th>Sex</th>\n",
       "      <th>Injury</th>\n",
       "      <th>Fatal</th>\n",
       "      <th>Species</th>\n",
       "      <th>Source</th>\n",
       "      <th>href</th>\n",
       "      <th>Species2</th>\n",
       "      <th>Activity2</th>\n",
       "      <th>Provoked</th>\n",
       "    </tr>\n",
       "  </thead>\n",
       "  <tbody>\n",
       "    <tr>\n",
       "      <th>0</th>\n",
       "      <td>0</td>\n",
       "      <td>2018.06.25</td>\n",
       "      <td>25-Jun-2018</td>\n",
       "      <td>2018.0</td>\n",
       "      <td>Boat</td>\n",
       "      <td>USA</td>\n",
       "      <td>California</td>\n",
       "      <td>Oceanside, San Diego County</td>\n",
       "      <td>Paddling</td>\n",
       "      <td>F</td>\n",
       "      <td>No injury to occupant, outrigger canoe and pad...</td>\n",
       "      <td>N</td>\n",
       "      <td>White shark</td>\n",
       "      <td>R. Collier, GSAF</td>\n",
       "      <td>http://sharkattackfile.net/spreadsheets/pdf_di...</td>\n",
       "      <td>White shark</td>\n",
       "      <td>Paddling</td>\n",
       "      <td>No injury to occupant, outrigger canoe and pad...</td>\n",
       "    </tr>\n",
       "    <tr>\n",
       "      <th>1</th>\n",
       "      <td>1</td>\n",
       "      <td>2018.06.18</td>\n",
       "      <td>18-Jun-2018</td>\n",
       "      <td>2018.0</td>\n",
       "      <td>Unprovoked</td>\n",
       "      <td>USA</td>\n",
       "      <td>Georgia</td>\n",
       "      <td>St. Simon Island, Glynn County</td>\n",
       "      <td>Standing</td>\n",
       "      <td>F</td>\n",
       "      <td>Minor injury to left thigh</td>\n",
       "      <td>N</td>\n",
       "      <td>Invalid</td>\n",
       "      <td>K.McMurray, TrackingSharks.com</td>\n",
       "      <td>http://sharkattackfile.net/spreadsheets/pdf_di...</td>\n",
       "      <td>INVALID ENTRY</td>\n",
       "      <td>Standing</td>\n",
       "      <td>Minor injury to left thigh</td>\n",
       "    </tr>\n",
       "    <tr>\n",
       "      <th>2</th>\n",
       "      <td>2</td>\n",
       "      <td>2018.06.09</td>\n",
       "      <td>09-Jun-2018</td>\n",
       "      <td>2018.0</td>\n",
       "      <td>Invalid</td>\n",
       "      <td>USA</td>\n",
       "      <td>Hawaii</td>\n",
       "      <td>Habush, Oahu</td>\n",
       "      <td>Surfing</td>\n",
       "      <td>M</td>\n",
       "      <td>Injury to left lower leg from surfboard skeg</td>\n",
       "      <td>N</td>\n",
       "      <td>Invalid</td>\n",
       "      <td>K.McMurray, TrackingSharks.com</td>\n",
       "      <td>http://sharkattackfile.net/spreadsheets/pdf_di...</td>\n",
       "      <td>INVALID ENTRY</td>\n",
       "      <td>Surfing</td>\n",
       "      <td>Injury to left lower leg from surfboard skeg</td>\n",
       "    </tr>\n",
       "    <tr>\n",
       "      <th>3</th>\n",
       "      <td>3</td>\n",
       "      <td>2018.06.08</td>\n",
       "      <td>08-Jun-2018</td>\n",
       "      <td>2018.0</td>\n",
       "      <td>Unprovoked</td>\n",
       "      <td>AUSTRALIA</td>\n",
       "      <td>New South Wales</td>\n",
       "      <td>Arrawarra Headland</td>\n",
       "      <td>Surfing</td>\n",
       "      <td>M</td>\n",
       "      <td>Minor injury to lower leg</td>\n",
       "      <td>N</td>\n",
       "      <td>2 m shark</td>\n",
       "      <td>B. Myatt, GSAF</td>\n",
       "      <td>http://sharkattackfile.net/spreadsheets/pdf_di...</td>\n",
       "      <td>OTHER / NOT KNOWN</td>\n",
       "      <td>Surfing</td>\n",
       "      <td>Minor injury to lower leg</td>\n",
       "    </tr>\n",
       "    <tr>\n",
       "      <th>4</th>\n",
       "      <td>4</td>\n",
       "      <td>2018.06.04</td>\n",
       "      <td>04-Jun-2018</td>\n",
       "      <td>2018.0</td>\n",
       "      <td>Provoked</td>\n",
       "      <td>MEXICO</td>\n",
       "      <td>Colima</td>\n",
       "      <td>La Ticla</td>\n",
       "      <td>Free diving</td>\n",
       "      <td>M</td>\n",
       "      <td>Lacerations to leg &amp; hand shark PROVOKED INCIDENT</td>\n",
       "      <td>N</td>\n",
       "      <td>Tiger shark, 3m</td>\n",
       "      <td>A .Kipper</td>\n",
       "      <td>http://sharkattackfile.net/spreadsheets/pdf_di...</td>\n",
       "      <td>Tiger shark</td>\n",
       "      <td>Diving</td>\n",
       "      <td>PROVOKED</td>\n",
       "    </tr>\n",
       "    <tr>\n",
       "      <th>...</th>\n",
       "      <td>...</td>\n",
       "      <td>...</td>\n",
       "      <td>...</td>\n",
       "      <td>...</td>\n",
       "      <td>...</td>\n",
       "      <td>...</td>\n",
       "      <td>...</td>\n",
       "      <td>...</td>\n",
       "      <td>...</td>\n",
       "      <td>...</td>\n",
       "      <td>...</td>\n",
       "      <td>...</td>\n",
       "      <td>...</td>\n",
       "      <td>...</td>\n",
       "      <td>...</td>\n",
       "      <td>...</td>\n",
       "      <td>...</td>\n",
       "      <td>...</td>\n",
       "    </tr>\n",
       "    <tr>\n",
       "      <th>6297</th>\n",
       "      <td>6297</td>\n",
       "      <td>ND.0005</td>\n",
       "      <td>Before 1903</td>\n",
       "      <td>0.0</td>\n",
       "      <td>Unprovoked</td>\n",
       "      <td>AUSTRALIA</td>\n",
       "      <td>Western Australia</td>\n",
       "      <td>Roebuck Bay</td>\n",
       "      <td>Diving</td>\n",
       "      <td>M</td>\n",
       "      <td>FATAL</td>\n",
       "      <td>Y</td>\n",
       "      <td>Invalid</td>\n",
       "      <td>H. Taunton; N. Bartlett,  p. 234</td>\n",
       "      <td>http://sharkattackfile.net/spreadsheets/pdf_di...</td>\n",
       "      <td>INVALID ENTRY</td>\n",
       "      <td>Diving</td>\n",
       "      <td>FATAL</td>\n",
       "    </tr>\n",
       "    <tr>\n",
       "      <th>6298</th>\n",
       "      <td>6298</td>\n",
       "      <td>ND.0004</td>\n",
       "      <td>Before 1903</td>\n",
       "      <td>0.0</td>\n",
       "      <td>Unprovoked</td>\n",
       "      <td>AUSTRALIA</td>\n",
       "      <td>Western Australia</td>\n",
       "      <td>NaN</td>\n",
       "      <td>Pearl diving</td>\n",
       "      <td>M</td>\n",
       "      <td>FATAL</td>\n",
       "      <td>Y</td>\n",
       "      <td>Invalid</td>\n",
       "      <td>H. Taunton; N. Bartlett,  pp. 233-234</td>\n",
       "      <td>http://sharkattackfile.net/spreadsheets/pdf_di...</td>\n",
       "      <td>INVALID ENTRY</td>\n",
       "      <td>Diving</td>\n",
       "      <td>FATAL</td>\n",
       "    </tr>\n",
       "    <tr>\n",
       "      <th>6299</th>\n",
       "      <td>6299</td>\n",
       "      <td>ND.0003</td>\n",
       "      <td>1900-1905</td>\n",
       "      <td>0.0</td>\n",
       "      <td>Unprovoked</td>\n",
       "      <td>USA</td>\n",
       "      <td>North Carolina</td>\n",
       "      <td>Ocracoke Inlet</td>\n",
       "      <td>Swimming</td>\n",
       "      <td>M</td>\n",
       "      <td>FATAL</td>\n",
       "      <td>Y</td>\n",
       "      <td>Invalid</td>\n",
       "      <td>F. Schwartz, p.23; C. Creswell, GSAF</td>\n",
       "      <td>http://sharkattackfile.net/spreadsheets/pdf_di...</td>\n",
       "      <td>INVALID ENTRY</td>\n",
       "      <td>Swimming</td>\n",
       "      <td>FATAL</td>\n",
       "    </tr>\n",
       "    <tr>\n",
       "      <th>6300</th>\n",
       "      <td>6300</td>\n",
       "      <td>ND.0002</td>\n",
       "      <td>1883-1889</td>\n",
       "      <td>0.0</td>\n",
       "      <td>Unprovoked</td>\n",
       "      <td>PANAMA</td>\n",
       "      <td>NaN</td>\n",
       "      <td>Panama Bay 8ºN, 79ºW</td>\n",
       "      <td>NaN</td>\n",
       "      <td>M</td>\n",
       "      <td>FATAL</td>\n",
       "      <td>Y</td>\n",
       "      <td>Invalid</td>\n",
       "      <td>The Sun, 10/20/1938</td>\n",
       "      <td>http://sharkattackfile.net/spreadsheets/pdf_di...</td>\n",
       "      <td>INVALID ENTRY</td>\n",
       "      <td>NOT SPECIFIED</td>\n",
       "      <td>FATAL</td>\n",
       "    </tr>\n",
       "    <tr>\n",
       "      <th>6301</th>\n",
       "      <td>6301</td>\n",
       "      <td>ND.0001</td>\n",
       "      <td>1845-1853</td>\n",
       "      <td>0.0</td>\n",
       "      <td>Unprovoked</td>\n",
       "      <td>CEYLON (SRI LANKA)</td>\n",
       "      <td>Eastern Province</td>\n",
       "      <td>Below the English fort, Trincomalee</td>\n",
       "      <td>Swimming</td>\n",
       "      <td>M</td>\n",
       "      <td>FATAL. \"Shark bit him in half, carrying away t...</td>\n",
       "      <td>Y</td>\n",
       "      <td>Invalid</td>\n",
       "      <td>S.W. Baker</td>\n",
       "      <td>http://sharkattackfile.net/spreadsheets/pdf_di...</td>\n",
       "      <td>INVALID ENTRY</td>\n",
       "      <td>Swimming</td>\n",
       "      <td>FATAL. \"Shark bit him in half, carrying away t...</td>\n",
       "    </tr>\n",
       "  </tbody>\n",
       "</table>\n",
       "<p>6302 rows × 18 columns</p>\n",
       "</div>"
      ],
      "text/plain": [
       "      Unnamed: 0     CaseNum         Date    Year        Type  \\\n",
       "0              0  2018.06.25  25-Jun-2018  2018.0        Boat   \n",
       "1              1  2018.06.18  18-Jun-2018  2018.0  Unprovoked   \n",
       "2              2  2018.06.09  09-Jun-2018  2018.0     Invalid   \n",
       "3              3  2018.06.08  08-Jun-2018  2018.0  Unprovoked   \n",
       "4              4  2018.06.04  04-Jun-2018  2018.0    Provoked   \n",
       "...          ...         ...          ...     ...         ...   \n",
       "6297        6297     ND.0005  Before 1903     0.0  Unprovoked   \n",
       "6298        6298     ND.0004  Before 1903     0.0  Unprovoked   \n",
       "6299        6299     ND.0003    1900-1905     0.0  Unprovoked   \n",
       "6300        6300     ND.0002    1883-1889     0.0  Unprovoked   \n",
       "6301        6301     ND.0001    1845-1853     0.0  Unprovoked   \n",
       "\n",
       "                 Country               Area  \\\n",
       "0                    USA         California   \n",
       "1                    USA            Georgia   \n",
       "2                    USA             Hawaii   \n",
       "3              AUSTRALIA    New South Wales   \n",
       "4                 MEXICO             Colima   \n",
       "...                  ...                ...   \n",
       "6297           AUSTRALIA  Western Australia   \n",
       "6298           AUSTRALIA  Western Australia   \n",
       "6299                 USA     North Carolina   \n",
       "6300              PANAMA                NaN   \n",
       "6301  CEYLON (SRI LANKA)   Eastern Province   \n",
       "\n",
       "                                 Location      Activity Sex  \\\n",
       "0             Oceanside, San Diego County      Paddling   F   \n",
       "1          St. Simon Island, Glynn County      Standing   F   \n",
       "2                            Habush, Oahu       Surfing   M   \n",
       "3                      Arrawarra Headland       Surfing   M   \n",
       "4                                La Ticla   Free diving   M   \n",
       "...                                   ...           ...  ..   \n",
       "6297                          Roebuck Bay        Diving   M   \n",
       "6298                                  NaN  Pearl diving   M   \n",
       "6299                       Ocracoke Inlet      Swimming   M   \n",
       "6300                 Panama Bay 8ºN, 79ºW           NaN   M   \n",
       "6301  Below the English fort, Trincomalee      Swimming   M   \n",
       "\n",
       "                                                 Injury Fatal  \\\n",
       "0     No injury to occupant, outrigger canoe and pad...     N   \n",
       "1                            Minor injury to left thigh     N   \n",
       "2          Injury to left lower leg from surfboard skeg     N   \n",
       "3                             Minor injury to lower leg     N   \n",
       "4     Lacerations to leg & hand shark PROVOKED INCIDENT     N   \n",
       "...                                                 ...   ...   \n",
       "6297                                              FATAL     Y   \n",
       "6298                                              FATAL     Y   \n",
       "6299                                              FATAL     Y   \n",
       "6300                                              FATAL     Y   \n",
       "6301  FATAL. \"Shark bit him in half, carrying away t...     Y   \n",
       "\n",
       "              Species                                 Source  \\\n",
       "0         White shark                       R. Collier, GSAF   \n",
       "1             Invalid         K.McMurray, TrackingSharks.com   \n",
       "2             Invalid         K.McMurray, TrackingSharks.com   \n",
       "3           2 m shark                         B. Myatt, GSAF   \n",
       "4     Tiger shark, 3m                              A .Kipper   \n",
       "...               ...                                    ...   \n",
       "6297          Invalid       H. Taunton; N. Bartlett,  p. 234   \n",
       "6298          Invalid  H. Taunton; N. Bartlett,  pp. 233-234   \n",
       "6299          Invalid   F. Schwartz, p.23; C. Creswell, GSAF   \n",
       "6300          Invalid                    The Sun, 10/20/1938   \n",
       "6301          Invalid                             S.W. Baker   \n",
       "\n",
       "                                                   href           Species2  \\\n",
       "0     http://sharkattackfile.net/spreadsheets/pdf_di...        White shark   \n",
       "1     http://sharkattackfile.net/spreadsheets/pdf_di...      INVALID ENTRY   \n",
       "2     http://sharkattackfile.net/spreadsheets/pdf_di...      INVALID ENTRY   \n",
       "3     http://sharkattackfile.net/spreadsheets/pdf_di...  OTHER / NOT KNOWN   \n",
       "4     http://sharkattackfile.net/spreadsheets/pdf_di...        Tiger shark   \n",
       "...                                                 ...                ...   \n",
       "6297  http://sharkattackfile.net/spreadsheets/pdf_di...      INVALID ENTRY   \n",
       "6298  http://sharkattackfile.net/spreadsheets/pdf_di...      INVALID ENTRY   \n",
       "6299  http://sharkattackfile.net/spreadsheets/pdf_di...      INVALID ENTRY   \n",
       "6300  http://sharkattackfile.net/spreadsheets/pdf_di...      INVALID ENTRY   \n",
       "6301  http://sharkattackfile.net/spreadsheets/pdf_di...      INVALID ENTRY   \n",
       "\n",
       "          Activity2                                           Provoked  \n",
       "0          Paddling  No injury to occupant, outrigger canoe and pad...  \n",
       "1          Standing                         Minor injury to left thigh  \n",
       "2           Surfing       Injury to left lower leg from surfboard skeg  \n",
       "3           Surfing                          Minor injury to lower leg  \n",
       "4            Diving                                           PROVOKED  \n",
       "...             ...                                                ...  \n",
       "6297         Diving                                              FATAL  \n",
       "6298         Diving                                              FATAL  \n",
       "6299       Swimming                                              FATAL  \n",
       "6300  NOT SPECIFIED                                              FATAL  \n",
       "6301       Swimming  FATAL. \"Shark bit him in half, carrying away t...  \n",
       "\n",
       "[6302 rows x 18 columns]"
      ]
     },
     "execution_count": 2,
     "metadata": {},
     "output_type": "execute_result"
    }
   ],
   "source": [
    "import pandas as pd\n",
    "import random\n",
    "import matplotlib\n",
    "\n",
    "# Loading the cleaned dataset as a dataframe\n",
    "df = pd.read_csv('exported.csv')\n",
    "df"
   ]
  },
  {
   "cell_type": "code",
   "execution_count": 3,
   "metadata": {},
   "outputs": [
    {
     "data": {
      "text/plain": [
       "Index(['Unnamed: 0', 'CaseNum', 'Date', 'Year', 'Type', 'Country', 'Area',\n",
       "       'Location', 'Activity', 'Sex', 'Injury', 'Fatal', 'Species', 'Source',\n",
       "       'href', 'Species2', 'Activity2', 'Provoked'],\n",
       "      dtype='object')"
      ]
     },
     "execution_count": 3,
     "metadata": {},
     "output_type": "execute_result"
    }
   ],
   "source": [
    "df.columns"
   ]
  },
  {
   "cell_type": "code",
   "execution_count": 4,
   "metadata": {},
   "outputs": [
    {
     "data": {
      "image/png": "[encoded data removed]",
      "text/plain": [
       "<Figure size 432x288 with 1 Axes>"
      ]
     },
     "metadata": {},
     "output_type": "display_data"
    }
   ],
   "source": [
    "%matplotlib inline\n",
    "s_fatal = df.Fatal.value_counts().plot.pie(title='Distribution of fatalities')"
   ]
  },
  {
   "cell_type": "code",
   "execution_count": 5,
   "metadata": {
    "scrolled": true
   },
   "outputs": [
    {
     "data": {
      "text/plain": [
       "<matplotlib.axes._subplots.AxesSubplot at 0x7f44f4c440f0>"
      ]
     },
     "execution_count": 5,
     "metadata": {},
     "output_type": "execute_result"
    },
    {
     "data": {
      "image/png": "[encoded data removed]",
      "text/plain": [
       "<Figure size 432x288 with 1 Axes>"
      ]
     },
     "metadata": {},
     "output_type": "display_data"
    }
   ],
   "source": [
    "df.Type.value_counts().plot.pie(title='Types of attacks')"
   ]
  },
  {
   "cell_type": "code",
   "execution_count": 6,
   "metadata": {},
   "outputs": [],
   "source": [
    "# This plot is a mess, don't graph it\n",
    "# df.Location.value_counts().plot.pie()"
   ]
  },
  {
   "cell_type": "code",
   "execution_count": 7,
   "metadata": {},
   "outputs": [],
   "source": [
    "# IDEA: make bins to filter the years when it happened"
   ]
  },
  {
   "cell_type": "code",
   "execution_count": 43,
   "metadata": {
    "scrolled": true
   },
   "outputs": [
    {
     "data": {
      "text/plain": [
       "<matplotlib.axes._subplots.AxesSubplot at 0x7f44e6715f28>"
      ]
     },
     "execution_count": 43,
     "metadata": {},
     "output_type": "execute_result"
    },
    {
     "data": {
      "image/png": "[encoded data removed]",
      "text/plain": [
       "<Figure size 432x288 with 1 Axes>"
      ]
     },
     "metadata": {
      "needs_background": "light"
     },
     "output_type": "display_data"
    }
   ],
   "source": [
    "Years2p = list(range(1800,2020,2))\n",
    "df.Year[df.Year.isin(Years2p)].value_counts().plot.bar()"
   ]
  },
  {
   "cell_type": "code",
   "execution_count": 9,
   "metadata": {
    "scrolled": true
   },
   "outputs": [
    {
     "data": {
      "text/plain": [
       "<matplotlib.axes._subplots.AxesSubplot at 0x7f44f1542588>"
      ]
     },
     "execution_count": 9,
     "metadata": {},
     "output_type": "execute_result"
    },
    {
     "data": {
      "image/png": "[encoded data removed]",
      "text/plain": [
       "<Figure size 432x288 with 1 Axes>"
      ]
     },
     "metadata": {
      "needs_background": "light"
     },
     "output_type": "display_data"
    }
   ],
   "source": [
    "df[\"Decade\"] = pd.cut(df.Year,\n",
    "                            bins=[1800,1850,1900,1950,2000,2050])\n",
    "                            #, \n",
    "#                            labels=range(1800,2020,10))\n",
    "df.Decade.value_counts().plot.density()"
   ]
  },
  {
   "cell_type": "code",
   "execution_count": 37,
   "metadata": {
    "scrolled": true
   },
   "outputs": [
    {
     "data": {
      "text/plain": [
       "<matplotlib.axes._subplots.AxesSubplot at 0x7f44e7537160>"
      ]
     },
     "execution_count": 37,
     "metadata": {},
     "output_type": "execute_result"
    },
    {
     "data": {
      "image/png": "[encoded data removed]",
      "text/plain": [
       "<Figure size 432x288 with 1 Axes>"
      ]
     },
     "metadata": {
      "needs_background": "light"
     },
     "output_type": "display_data"
    }
   ],
   "source": [
    "df.Species2[~df.Species2.isin(['INVALID ENTRY',\n",
    "                               'OTHER / NOT KNOWN'])\n",
    "           ].value_counts().plot.bar()"
   ]
  },
  {
   "cell_type": "code",
   "execution_count": 11,
   "metadata": {
    "scrolled": true
   },
   "outputs": [
    {
     "data": {
      "text/html": [
       "<div>\n",
       "<style scoped>\n",
       "    .dataframe tbody tr th:only-of-type {\n",
       "        vertical-align: middle;\n",
       "    }\n",
       "\n",
       "    .dataframe tbody tr th {\n",
       "        vertical-align: top;\n",
       "    }\n",
       "\n",
       "    .dataframe thead th {\n",
       "        text-align: right;\n",
       "    }\n",
       "</style>\n",
       "<table border=\"1\" class=\"dataframe\">\n",
       "  <thead>\n",
       "    <tr style=\"text-align: right;\">\n",
       "      <th></th>\n",
       "      <th>Species2</th>\n",
       "      <th>Fatal</th>\n",
       "    </tr>\n",
       "  </thead>\n",
       "  <tbody>\n",
       "    <tr>\n",
       "      <th>0</th>\n",
       "      <td>White shark</td>\n",
       "      <td>N</td>\n",
       "    </tr>\n",
       "    <tr>\n",
       "      <th>1</th>\n",
       "      <td>INVALID ENTRY</td>\n",
       "      <td>N</td>\n",
       "    </tr>\n",
       "    <tr>\n",
       "      <th>2</th>\n",
       "      <td>INVALID ENTRY</td>\n",
       "      <td>N</td>\n",
       "    </tr>\n",
       "    <tr>\n",
       "      <th>3</th>\n",
       "      <td>OTHER / NOT KNOWN</td>\n",
       "      <td>N</td>\n",
       "    </tr>\n",
       "    <tr>\n",
       "      <th>4</th>\n",
       "      <td>Tiger shark</td>\n",
       "      <td>N</td>\n",
       "    </tr>\n",
       "    <tr>\n",
       "      <th>...</th>\n",
       "      <td>...</td>\n",
       "      <td>...</td>\n",
       "    </tr>\n",
       "    <tr>\n",
       "      <th>6297</th>\n",
       "      <td>INVALID ENTRY</td>\n",
       "      <td>Y</td>\n",
       "    </tr>\n",
       "    <tr>\n",
       "      <th>6298</th>\n",
       "      <td>INVALID ENTRY</td>\n",
       "      <td>Y</td>\n",
       "    </tr>\n",
       "    <tr>\n",
       "      <th>6299</th>\n",
       "      <td>INVALID ENTRY</td>\n",
       "      <td>Y</td>\n",
       "    </tr>\n",
       "    <tr>\n",
       "      <th>6300</th>\n",
       "      <td>INVALID ENTRY</td>\n",
       "      <td>Y</td>\n",
       "    </tr>\n",
       "    <tr>\n",
       "      <th>6301</th>\n",
       "      <td>INVALID ENTRY</td>\n",
       "      <td>Y</td>\n",
       "    </tr>\n",
       "  </tbody>\n",
       "</table>\n",
       "<p>5690 rows × 2 columns</p>\n",
       "</div>"
      ],
      "text/plain": [
       "               Species2 Fatal\n",
       "0           White shark     N\n",
       "1         INVALID ENTRY     N\n",
       "2         INVALID ENTRY     N\n",
       "3     OTHER / NOT KNOWN     N\n",
       "4           Tiger shark     N\n",
       "...                 ...   ...\n",
       "6297      INVALID ENTRY     Y\n",
       "6298      INVALID ENTRY     Y\n",
       "6299      INVALID ENTRY     Y\n",
       "6300      INVALID ENTRY     Y\n",
       "6301      INVALID ENTRY     Y\n",
       "\n",
       "[5690 rows x 2 columns]"
      ]
     },
     "execution_count": 11,
     "metadata": {},
     "output_type": "execute_result"
    }
   ],
   "source": [
    "df[~df['Fatal'].isin(['UNKNOWN'])][['Species2', 'Fatal']]"
   ]
  },
  {
   "cell_type": "markdown",
   "metadata": {},
   "source": [
    "# I want to make a new column that specifies, the species and if it was deadly or not\n",
    "Firts, I'll take any values which don't contribute to our research, and focus only on the deadliest species"
   ]
  },
  {
   "cell_type": "code",
   "execution_count": 12,
   "metadata": {},
   "outputs": [],
   "source": [
    "fatals_filetred = ~df.Fatal.isin(['UNKNOWN'])"
   ]
  },
  {
   "cell_type": "code",
   "execution_count": 13,
   "metadata": {},
   "outputs": [
    {
     "data": {
      "text/plain": [
       "INVALID ENTRY          3052\n",
       "OTHER / NOT KNOWN      1467\n",
       "White shark             625\n",
       "Tiger shark             275\n",
       "Bull shark              171\n",
       "Nurse shark              94\n",
       "Reef shark               65\n",
       "Bronze whaler shark      60\n",
       "Blacktip shark           56\n",
       "Small shark              55\n",
       "Mako Shark               53\n",
       "Wobbegong shark          46\n",
       "Hammerhead shark         44\n",
       "Raggedtooth shark        43\n",
       "Blue shark               38\n",
       "Lemon shark              34\n",
       "Zambesi shark            29\n",
       "Whitetip shark           23\n",
       "Spinner shark            20\n",
       "Dusky shark              12\n",
       "Carpet shark              8\n",
       "Whaler shark              6\n",
       "Sandbar shark             5\n",
       "Thresher shark            4\n",
       "Gray shark                3\n",
       "Brown shark               3\n",
       "HOAX                      2\n",
       "Leopard shark             2\n",
       "DROWNED                   2\n",
       "Silvertip shark           2\n",
       "Blue nose shark           2\n",
       "STINGRAY                  1\n",
       "Name: Species2, dtype: int64"
      ]
     },
     "execution_count": 13,
     "metadata": {},
     "output_type": "execute_result"
    }
   ],
   "source": [
    "df.Species2.value_counts()"
   ]
  },
  {
   "cell_type": "code",
   "execution_count": 14,
   "metadata": {
    "scrolled": true
   },
   "outputs": [
    {
     "name": "stdout",
     "output_type": "stream",
     "text": [
      "White shark            625\n",
      "Tiger shark            275\n",
      "Bull shark             171\n",
      "Nurse shark             94\n",
      "Reef shark              65\n",
      "Bronze whaler shark     60\n",
      "Name: Species2, dtype: int64\n"
     ]
    }
   ],
   "source": [
    "# Define the sharks I want to consider\n",
    "killer_sharks =['White shark',\n",
    "                'Tiger shark',\n",
    "                'Bull shark',\n",
    "                'Nurse shark', \n",
    "                'Reef shark',\n",
    "                'Bronze whaler shark']\n",
    "\n",
    "# How many samples of each species are there?\n",
    "print(df.Species2[df.Species2.isin(killer_sharks)].value_counts())\n",
    "\n",
    "# Create a dataframe containing only the indexes with those species\n",
    "species_fatality = df[df.Species2.isin(killer_sharks)]\n",
    "#df.Species2.value_counts()"
   ]
  },
  {
   "cell_type": "code",
   "execution_count": 15,
   "metadata": {},
   "outputs": [],
   "source": [
    "species_fatality = df[df.Species2.isin(killer_sharks)]"
   ]
  },
  {
   "cell_type": "code",
   "execution_count": 16,
   "metadata": {
    "scrolled": false
   },
   "outputs": [
    {
     "name": "stderr",
     "output_type": "stream",
     "text": [
      "/usr/local/lib/python3.6/dist-packages/ipykernel_launcher.py:3: UserWarning: Boolean Series key will be reindexed to match DataFrame index.\n",
      "  This is separate from the ipykernel package so we can avoid doing imports until\n"
     ]
    },
    {
     "data": {
      "text/html": [
       "<div>\n",
       "<style scoped>\n",
       "    .dataframe tbody tr th:only-of-type {\n",
       "        vertical-align: middle;\n",
       "    }\n",
       "\n",
       "    .dataframe tbody tr th {\n",
       "        vertical-align: top;\n",
       "    }\n",
       "\n",
       "    .dataframe thead th {\n",
       "        text-align: right;\n",
       "    }\n",
       "</style>\n",
       "<table border=\"1\" class=\"dataframe\">\n",
       "  <thead>\n",
       "    <tr style=\"text-align: right;\">\n",
       "      <th></th>\n",
       "      <th>Unnamed: 0</th>\n",
       "      <th>CaseNum</th>\n",
       "      <th>Date</th>\n",
       "      <th>Year</th>\n",
       "      <th>Type</th>\n",
       "      <th>Country</th>\n",
       "      <th>Area</th>\n",
       "      <th>Location</th>\n",
       "      <th>Activity</th>\n",
       "      <th>Sex</th>\n",
       "      <th>Injury</th>\n",
       "      <th>Fatal</th>\n",
       "      <th>Species</th>\n",
       "      <th>Source</th>\n",
       "      <th>href</th>\n",
       "      <th>Species2</th>\n",
       "      <th>Activity2</th>\n",
       "      <th>Provoked</th>\n",
       "      <th>Decade</th>\n",
       "    </tr>\n",
       "  </thead>\n",
       "  <tbody>\n",
       "    <tr>\n",
       "      <th>0</th>\n",
       "      <td>0</td>\n",
       "      <td>2018.06.25</td>\n",
       "      <td>25-Jun-2018</td>\n",
       "      <td>2018.0</td>\n",
       "      <td>Boat</td>\n",
       "      <td>USA</td>\n",
       "      <td>California</td>\n",
       "      <td>Oceanside, San Diego County</td>\n",
       "      <td>Paddling</td>\n",
       "      <td>F</td>\n",
       "      <td>No injury to occupant, outrigger canoe and pad...</td>\n",
       "      <td>N</td>\n",
       "      <td>White shark</td>\n",
       "      <td>R. Collier, GSAF</td>\n",
       "      <td>http://sharkattackfile.net/spreadsheets/pdf_di...</td>\n",
       "      <td>White shark</td>\n",
       "      <td>Paddling</td>\n",
       "      <td>No injury to occupant, outrigger canoe and pad...</td>\n",
       "      <td>(2000.0, 2050.0]</td>\n",
       "    </tr>\n",
       "    <tr>\n",
       "      <th>4</th>\n",
       "      <td>4</td>\n",
       "      <td>2018.06.04</td>\n",
       "      <td>04-Jun-2018</td>\n",
       "      <td>2018.0</td>\n",
       "      <td>Provoked</td>\n",
       "      <td>MEXICO</td>\n",
       "      <td>Colima</td>\n",
       "      <td>La Ticla</td>\n",
       "      <td>Free diving</td>\n",
       "      <td>M</td>\n",
       "      <td>Lacerations to leg &amp; hand shark PROVOKED INCIDENT</td>\n",
       "      <td>N</td>\n",
       "      <td>Tiger shark, 3m</td>\n",
       "      <td>A .Kipper</td>\n",
       "      <td>http://sharkattackfile.net/spreadsheets/pdf_di...</td>\n",
       "      <td>Tiger shark</td>\n",
       "      <td>Diving</td>\n",
       "      <td>PROVOKED</td>\n",
       "      <td>(2000.0, 2050.0]</td>\n",
       "    </tr>\n",
       "    <tr>\n",
       "      <th>6</th>\n",
       "      <td>6</td>\n",
       "      <td>2018.06.03.a</td>\n",
       "      <td>03-Jun-2018</td>\n",
       "      <td>2018.0</td>\n",
       "      <td>Unprovoked</td>\n",
       "      <td>BRAZIL</td>\n",
       "      <td>Pernambuco</td>\n",
       "      <td>Piedade Beach, Recife</td>\n",
       "      <td>Swimming</td>\n",
       "      <td>M</td>\n",
       "      <td>FATAL</td>\n",
       "      <td>Y</td>\n",
       "      <td>Tiger shark</td>\n",
       "      <td>Diario de Pernambuco, 6/4/2018</td>\n",
       "      <td>http://sharkattackfile.net/spreadsheets/pdf_di...</td>\n",
       "      <td>Tiger shark</td>\n",
       "      <td>Swimming</td>\n",
       "      <td>FATAL</td>\n",
       "      <td>(2000.0, 2050.0]</td>\n",
       "    </tr>\n",
       "    <tr>\n",
       "      <th>8</th>\n",
       "      <td>8</td>\n",
       "      <td>2018.05.26.b</td>\n",
       "      <td>26-May-2018</td>\n",
       "      <td>2018.0</td>\n",
       "      <td>Unprovoked</td>\n",
       "      <td>USA</td>\n",
       "      <td>Florida</td>\n",
       "      <td>Cocoa Beach, Brevard  County</td>\n",
       "      <td>Walking</td>\n",
       "      <td>M</td>\n",
       "      <td>Lower left leg bitten</td>\n",
       "      <td>N</td>\n",
       "      <td>Bull shark, 6'</td>\n",
       "      <td>K.McMurray, TrackingSharks.com</td>\n",
       "      <td>http://sharkattackfile.net/spreadsheets/pdf_di...</td>\n",
       "      <td>Bull shark</td>\n",
       "      <td>Walking</td>\n",
       "      <td>Lower left leg bitten</td>\n",
       "      <td>(2000.0, 2050.0]</td>\n",
       "    </tr>\n",
       "    <tr>\n",
       "      <th>10</th>\n",
       "      <td>10</td>\n",
       "      <td>2018.05.24</td>\n",
       "      <td>24-May-2018</td>\n",
       "      <td>2018.0</td>\n",
       "      <td>Provoked</td>\n",
       "      <td>AUSTRALIA</td>\n",
       "      <td>Queensland</td>\n",
       "      <td>Cairns Aquarium</td>\n",
       "      <td>Feeding sharks</td>\n",
       "      <td>M</td>\n",
       "      <td>Minor bite to hand by captive shark. PROVOKED ...</td>\n",
       "      <td>N</td>\n",
       "      <td>Grey reef shark</td>\n",
       "      <td>ABC.net.au ,05/24/2018</td>\n",
       "      <td>http://sharkattackfile.net/spreadsheets/pdf_di...</td>\n",
       "      <td>Reef shark</td>\n",
       "      <td>Feeding sharks</td>\n",
       "      <td>PROVOKED</td>\n",
       "      <td>(2000.0, 2050.0]</td>\n",
       "    </tr>\n",
       "    <tr>\n",
       "      <th>...</th>\n",
       "      <td>...</td>\n",
       "      <td>...</td>\n",
       "      <td>...</td>\n",
       "      <td>...</td>\n",
       "      <td>...</td>\n",
       "      <td>...</td>\n",
       "      <td>...</td>\n",
       "      <td>...</td>\n",
       "      <td>...</td>\n",
       "      <td>...</td>\n",
       "      <td>...</td>\n",
       "      <td>...</td>\n",
       "      <td>...</td>\n",
       "      <td>...</td>\n",
       "      <td>...</td>\n",
       "      <td>...</td>\n",
       "      <td>...</td>\n",
       "      <td>...</td>\n",
       "      <td>...</td>\n",
       "    </tr>\n",
       "    <tr>\n",
       "      <th>6250</th>\n",
       "      <td>6250</td>\n",
       "      <td>ND.0055</td>\n",
       "      <td>Before 1958</td>\n",
       "      <td>0.0</td>\n",
       "      <td>Provoked</td>\n",
       "      <td>BAHAMAS</td>\n",
       "      <td>Andros Islands</td>\n",
       "      <td>Middle Bight</td>\n",
       "      <td>Testing movie camera in full diving dress</td>\n",
       "      <td>M</td>\n",
       "      <td>Shark bit diver's sleeve after he patted it on...</td>\n",
       "      <td>N</td>\n",
       "      <td>Nurse shark, 2.1 m [7']</td>\n",
       "      <td>V.M. Coppleson (1958), p.97</td>\n",
       "      <td>http://sharkattackfile.net/spreadsheets/pdf_di...</td>\n",
       "      <td>Nurse shark</td>\n",
       "      <td>Diving</td>\n",
       "      <td>PROVOKED</td>\n",
       "      <td>NaN</td>\n",
       "    </tr>\n",
       "    <tr>\n",
       "      <th>6253</th>\n",
       "      <td>6253</td>\n",
       "      <td>ND.0052</td>\n",
       "      <td>Before 1957</td>\n",
       "      <td>0.0</td>\n",
       "      <td>Unprovoked</td>\n",
       "      <td>NICARAGUA</td>\n",
       "      <td>Lake Nicaragua (fresh water)</td>\n",
       "      <td>A village  north of San Carlos</td>\n",
       "      <td>Lashing logs together when he fell into the water</td>\n",
       "      <td>M</td>\n",
       "      <td>FATAL, leg severed</td>\n",
       "      <td>Y</td>\n",
       "      <td>Bull shark caught, leg recovered &amp; buried besi...</td>\n",
       "      <td>F. Poli, pp.150-153</td>\n",
       "      <td>http://sharkattackfile.net/spreadsheets/pdf_di...</td>\n",
       "      <td>Bull shark</td>\n",
       "      <td>Fell to the water</td>\n",
       "      <td>FATAL, leg severed</td>\n",
       "      <td>NaN</td>\n",
       "    </tr>\n",
       "    <tr>\n",
       "      <th>6265</th>\n",
       "      <td>6265</td>\n",
       "      <td>ND.0038</td>\n",
       "      <td>1941-1942</td>\n",
       "      <td>0.0</td>\n",
       "      <td>Unprovoked</td>\n",
       "      <td>IRAQ</td>\n",
       "      <td>Basrah</td>\n",
       "      <td>Shatt-el Arab River near a small boat stand</td>\n",
       "      <td>Swimming</td>\n",
       "      <td>M</td>\n",
       "      <td>FATAL, left leg bitten with severe blood loss</td>\n",
       "      <td>Y</td>\n",
       "      <td>Bull shark</td>\n",
       "      <td>B.W. Coad &amp; L.A.J. Al-Hassan</td>\n",
       "      <td>http://sharkattackfile.net/spreadsheets/pdf_di...</td>\n",
       "      <td>Bull shark</td>\n",
       "      <td>Swimming</td>\n",
       "      <td>FATAL, left leg bitten with severe blood loss</td>\n",
       "      <td>NaN</td>\n",
       "    </tr>\n",
       "    <tr>\n",
       "      <th>6274</th>\n",
       "      <td>6274</td>\n",
       "      <td>ND.0028</td>\n",
       "      <td>A few years before 1938</td>\n",
       "      <td>0.0</td>\n",
       "      <td>Boat</td>\n",
       "      <td>ITALY</td>\n",
       "      <td>Adriatic Sea</td>\n",
       "      <td>NaN</td>\n",
       "      <td>Wooden fishing boat</td>\n",
       "      <td>M</td>\n",
       "      <td>No injury to occupant; shark capsized boat</td>\n",
       "      <td>N</td>\n",
       "      <td>White shark</td>\n",
       "      <td>A. De Maddalena; Anon. (1938)</td>\n",
       "      <td>http://sharkattackfile.net/spreadsheets/pdf_di...</td>\n",
       "      <td>White shark</td>\n",
       "      <td>Fishing</td>\n",
       "      <td>No injury to occupant; shark capsized boat</td>\n",
       "      <td>NaN</td>\n",
       "    </tr>\n",
       "    <tr>\n",
       "      <th>6276</th>\n",
       "      <td>6276</td>\n",
       "      <td>ND.0026</td>\n",
       "      <td>Early 1930s</td>\n",
       "      <td>0.0</td>\n",
       "      <td>Unprovoked</td>\n",
       "      <td>BELIZE</td>\n",
       "      <td>NaN</td>\n",
       "      <td>NaN</td>\n",
       "      <td>Standing</td>\n",
       "      <td>M</td>\n",
       "      <td>FATAL</td>\n",
       "      <td>Y</td>\n",
       "      <td>12' tiger shark</td>\n",
       "      <td>Mitchell-Hedges</td>\n",
       "      <td>http://sharkattackfile.net/spreadsheets/pdf_di...</td>\n",
       "      <td>Tiger shark</td>\n",
       "      <td>Standing</td>\n",
       "      <td>FATAL</td>\n",
       "      <td>NaN</td>\n",
       "    </tr>\n",
       "  </tbody>\n",
       "</table>\n",
       "<p>1271 rows × 19 columns</p>\n",
       "</div>"
      ],
      "text/plain": [
       "      Unnamed: 0       CaseNum                     Date    Year        Type  \\\n",
       "0              0    2018.06.25              25-Jun-2018  2018.0        Boat   \n",
       "4              4    2018.06.04              04-Jun-2018  2018.0    Provoked   \n",
       "6              6  2018.06.03.a              03-Jun-2018  2018.0  Unprovoked   \n",
       "8              8  2018.05.26.b              26-May-2018  2018.0  Unprovoked   \n",
       "10            10    2018.05.24              24-May-2018  2018.0    Provoked   \n",
       "...          ...           ...                      ...     ...         ...   \n",
       "6250        6250       ND.0055              Before 1958     0.0    Provoked   \n",
       "6253        6253       ND.0052              Before 1957     0.0  Unprovoked   \n",
       "6265        6265       ND.0038                1941-1942     0.0  Unprovoked   \n",
       "6274        6274       ND.0028  A few years before 1938     0.0        Boat   \n",
       "6276        6276       ND.0026              Early 1930s     0.0  Unprovoked   \n",
       "\n",
       "        Country                          Area  \\\n",
       "0           USA                    California   \n",
       "4        MEXICO                        Colima   \n",
       "6        BRAZIL                    Pernambuco   \n",
       "8           USA                       Florida   \n",
       "10    AUSTRALIA                    Queensland   \n",
       "...         ...                           ...   \n",
       "6250    BAHAMAS                Andros Islands   \n",
       "6253  NICARAGUA  Lake Nicaragua (fresh water)   \n",
       "6265       IRAQ                        Basrah   \n",
       "6274      ITALY                  Adriatic Sea   \n",
       "6276     BELIZE                           NaN   \n",
       "\n",
       "                                         Location  \\\n",
       "0                     Oceanside, San Diego County   \n",
       "4                                        La Ticla   \n",
       "6                           Piedade Beach, Recife   \n",
       "8                    Cocoa Beach, Brevard  County   \n",
       "10                                Cairns Aquarium   \n",
       "...                                           ...   \n",
       "6250                                 Middle Bight   \n",
       "6253               A village  north of San Carlos   \n",
       "6265  Shatt-el Arab River near a small boat stand   \n",
       "6274                                          NaN   \n",
       "6276                                          NaN   \n",
       "\n",
       "                                               Activity Sex  \\\n",
       "0                                              Paddling   F   \n",
       "4                                           Free diving   M   \n",
       "6                                              Swimming   M   \n",
       "8                                               Walking   M   \n",
       "10                                       Feeding sharks   M   \n",
       "...                                                 ...  ..   \n",
       "6250          Testing movie camera in full diving dress   M   \n",
       "6253  Lashing logs together when he fell into the water   M   \n",
       "6265                                           Swimming   M   \n",
       "6274                                Wooden fishing boat   M   \n",
       "6276                                           Standing   M   \n",
       "\n",
       "                                                 Injury Fatal  \\\n",
       "0     No injury to occupant, outrigger canoe and pad...     N   \n",
       "4     Lacerations to leg & hand shark PROVOKED INCIDENT     N   \n",
       "6                                                 FATAL     Y   \n",
       "8                                 Lower left leg bitten     N   \n",
       "10    Minor bite to hand by captive shark. PROVOKED ...     N   \n",
       "...                                                 ...   ...   \n",
       "6250  Shark bit diver's sleeve after he patted it on...     N   \n",
       "6253                                FATAL, leg severed      Y   \n",
       "6265      FATAL, left leg bitten with severe blood loss     Y   \n",
       "6274         No injury to occupant; shark capsized boat     N   \n",
       "6276                                              FATAL     Y   \n",
       "\n",
       "                                                Species  \\\n",
       "0                                           White shark   \n",
       "4                                       Tiger shark, 3m   \n",
       "6                                           Tiger shark   \n",
       "8                                        Bull shark, 6'   \n",
       "10                                      Grey reef shark   \n",
       "...                                                 ...   \n",
       "6250                            Nurse shark, 2.1 m [7']   \n",
       "6253  Bull shark caught, leg recovered & buried besi...   \n",
       "6265                                         Bull shark   \n",
       "6274                                        White shark   \n",
       "6276                                    12' tiger shark   \n",
       "\n",
       "                              Source  \\\n",
       "0                   R. Collier, GSAF   \n",
       "4                          A .Kipper   \n",
       "6     Diario de Pernambuco, 6/4/2018   \n",
       "8     K.McMurray, TrackingSharks.com   \n",
       "10            ABC.net.au ,05/24/2018   \n",
       "...                              ...   \n",
       "6250     V.M. Coppleson (1958), p.97   \n",
       "6253             F. Poli, pp.150-153   \n",
       "6265    B.W. Coad & L.A.J. Al-Hassan   \n",
       "6274   A. De Maddalena; Anon. (1938)   \n",
       "6276                 Mitchell-Hedges   \n",
       "\n",
       "                                                   href     Species2  \\\n",
       "0     http://sharkattackfile.net/spreadsheets/pdf_di...  White shark   \n",
       "4     http://sharkattackfile.net/spreadsheets/pdf_di...  Tiger shark   \n",
       "6     http://sharkattackfile.net/spreadsheets/pdf_di...  Tiger shark   \n",
       "8     http://sharkattackfile.net/spreadsheets/pdf_di...   Bull shark   \n",
       "10    http://sharkattackfile.net/spreadsheets/pdf_di...   Reef shark   \n",
       "...                                                 ...          ...   \n",
       "6250  http://sharkattackfile.net/spreadsheets/pdf_di...  Nurse shark   \n",
       "6253  http://sharkattackfile.net/spreadsheets/pdf_di...   Bull shark   \n",
       "6265  http://sharkattackfile.net/spreadsheets/pdf_di...   Bull shark   \n",
       "6274  http://sharkattackfile.net/spreadsheets/pdf_di...  White shark   \n",
       "6276  http://sharkattackfile.net/spreadsheets/pdf_di...  Tiger shark   \n",
       "\n",
       "              Activity2                                           Provoked  \\\n",
       "0              Paddling  No injury to occupant, outrigger canoe and pad...   \n",
       "4                Diving                                           PROVOKED   \n",
       "6              Swimming                                              FATAL   \n",
       "8               Walking                              Lower left leg bitten   \n",
       "10       Feeding sharks                                           PROVOKED   \n",
       "...                 ...                                                ...   \n",
       "6250             Diving                                           PROVOKED   \n",
       "6253  Fell to the water                                FATAL, leg severed    \n",
       "6265           Swimming      FATAL, left leg bitten with severe blood loss   \n",
       "6274            Fishing         No injury to occupant; shark capsized boat   \n",
       "6276           Standing                                              FATAL   \n",
       "\n",
       "                Decade  \n",
       "0     (2000.0, 2050.0]  \n",
       "4     (2000.0, 2050.0]  \n",
       "6     (2000.0, 2050.0]  \n",
       "8     (2000.0, 2050.0]  \n",
       "10    (2000.0, 2050.0]  \n",
       "...                ...  \n",
       "6250               NaN  \n",
       "6253               NaN  \n",
       "6265               NaN  \n",
       "6274               NaN  \n",
       "6276               NaN  \n",
       "\n",
       "[1271 rows x 19 columns]"
      ]
     },
     "execution_count": 16,
     "metadata": {},
     "output_type": "execute_result"
    }
   ],
   "source": [
    "species_fatality = species_fatality#.reset_index()\n",
    "species_fatality[['Fatal', 'Species2']]\n",
    "species_fatality[fatals_filetred]#.value_counts()"
   ]
  },
  {
   "cell_type": "code",
   "execution_count": 17,
   "metadata": {},
   "outputs": [
    {
     "name": "stderr",
     "output_type": "stream",
     "text": [
      "/usr/local/lib/python3.6/dist-packages/ipykernel_launcher.py:1: UserWarning: Boolean Series key will be reindexed to match DataFrame index.\n",
      "  \"\"\"Entry point for launching an IPython kernel.\n"
     ]
    }
   ],
   "source": [
    "dfx = species_fatality[fatals_filetred]"
   ]
  },
  {
   "cell_type": "code",
   "execution_count": 18,
   "metadata": {},
   "outputs": [
    {
     "data": {
      "text/html": [
       "<div>\n",
       "<style scoped>\n",
       "    .dataframe tbody tr th:only-of-type {\n",
       "        vertical-align: middle;\n",
       "    }\n",
       "\n",
       "    .dataframe tbody tr th {\n",
       "        vertical-align: top;\n",
       "    }\n",
       "\n",
       "    .dataframe thead th {\n",
       "        text-align: right;\n",
       "    }\n",
       "</style>\n",
       "<table border=\"1\" class=\"dataframe\">\n",
       "  <thead>\n",
       "    <tr style=\"text-align: right;\">\n",
       "      <th></th>\n",
       "      <th>Unnamed: 0</th>\n",
       "      <th>CaseNum</th>\n",
       "      <th>Date</th>\n",
       "      <th>Year</th>\n",
       "      <th>Type</th>\n",
       "      <th>Country</th>\n",
       "      <th>Area</th>\n",
       "      <th>Location</th>\n",
       "      <th>Activity</th>\n",
       "      <th>Sex</th>\n",
       "      <th>Injury</th>\n",
       "      <th>Fatal</th>\n",
       "      <th>Species</th>\n",
       "      <th>Source</th>\n",
       "      <th>href</th>\n",
       "      <th>Species2</th>\n",
       "      <th>Activity2</th>\n",
       "      <th>Provoked</th>\n",
       "      <th>Decade</th>\n",
       "    </tr>\n",
       "  </thead>\n",
       "  <tbody>\n",
       "    <tr>\n",
       "      <th>0</th>\n",
       "      <td>0</td>\n",
       "      <td>2018.06.25</td>\n",
       "      <td>25-Jun-2018</td>\n",
       "      <td>2018.0</td>\n",
       "      <td>Boat</td>\n",
       "      <td>USA</td>\n",
       "      <td>California</td>\n",
       "      <td>Oceanside, San Diego County</td>\n",
       "      <td>Paddling</td>\n",
       "      <td>F</td>\n",
       "      <td>No injury to occupant, outrigger canoe and pad...</td>\n",
       "      <td>N</td>\n",
       "      <td>White shark</td>\n",
       "      <td>R. Collier, GSAF</td>\n",
       "      <td>http://sharkattackfile.net/spreadsheets/pdf_di...</td>\n",
       "      <td>White shark</td>\n",
       "      <td>Paddling</td>\n",
       "      <td>No injury to occupant, outrigger canoe and pad...</td>\n",
       "      <td>(2000.0, 2050.0]</td>\n",
       "    </tr>\n",
       "    <tr>\n",
       "      <th>4</th>\n",
       "      <td>4</td>\n",
       "      <td>2018.06.04</td>\n",
       "      <td>04-Jun-2018</td>\n",
       "      <td>2018.0</td>\n",
       "      <td>Provoked</td>\n",
       "      <td>MEXICO</td>\n",
       "      <td>Colima</td>\n",
       "      <td>La Ticla</td>\n",
       "      <td>Free diving</td>\n",
       "      <td>M</td>\n",
       "      <td>Lacerations to leg &amp; hand shark PROVOKED INCIDENT</td>\n",
       "      <td>N</td>\n",
       "      <td>Tiger shark, 3m</td>\n",
       "      <td>A .Kipper</td>\n",
       "      <td>http://sharkattackfile.net/spreadsheets/pdf_di...</td>\n",
       "      <td>Tiger shark</td>\n",
       "      <td>Diving</td>\n",
       "      <td>PROVOKED</td>\n",
       "      <td>(2000.0, 2050.0]</td>\n",
       "    </tr>\n",
       "    <tr>\n",
       "      <th>6</th>\n",
       "      <td>6</td>\n",
       "      <td>2018.06.03.a</td>\n",
       "      <td>03-Jun-2018</td>\n",
       "      <td>2018.0</td>\n",
       "      <td>Unprovoked</td>\n",
       "      <td>BRAZIL</td>\n",
       "      <td>Pernambuco</td>\n",
       "      <td>Piedade Beach, Recife</td>\n",
       "      <td>Swimming</td>\n",
       "      <td>M</td>\n",
       "      <td>FATAL</td>\n",
       "      <td>Y</td>\n",
       "      <td>Tiger shark</td>\n",
       "      <td>Diario de Pernambuco, 6/4/2018</td>\n",
       "      <td>http://sharkattackfile.net/spreadsheets/pdf_di...</td>\n",
       "      <td>Tiger shark</td>\n",
       "      <td>Swimming</td>\n",
       "      <td>FATAL</td>\n",
       "      <td>(2000.0, 2050.0]</td>\n",
       "    </tr>\n",
       "    <tr>\n",
       "      <th>8</th>\n",
       "      <td>8</td>\n",
       "      <td>2018.05.26.b</td>\n",
       "      <td>26-May-2018</td>\n",
       "      <td>2018.0</td>\n",
       "      <td>Unprovoked</td>\n",
       "      <td>USA</td>\n",
       "      <td>Florida</td>\n",
       "      <td>Cocoa Beach, Brevard  County</td>\n",
       "      <td>Walking</td>\n",
       "      <td>M</td>\n",
       "      <td>Lower left leg bitten</td>\n",
       "      <td>N</td>\n",
       "      <td>Bull shark, 6'</td>\n",
       "      <td>K.McMurray, TrackingSharks.com</td>\n",
       "      <td>http://sharkattackfile.net/spreadsheets/pdf_di...</td>\n",
       "      <td>Bull shark</td>\n",
       "      <td>Walking</td>\n",
       "      <td>Lower left leg bitten</td>\n",
       "      <td>(2000.0, 2050.0]</td>\n",
       "    </tr>\n",
       "    <tr>\n",
       "      <th>10</th>\n",
       "      <td>10</td>\n",
       "      <td>2018.05.24</td>\n",
       "      <td>24-May-2018</td>\n",
       "      <td>2018.0</td>\n",
       "      <td>Provoked</td>\n",
       "      <td>AUSTRALIA</td>\n",
       "      <td>Queensland</td>\n",
       "      <td>Cairns Aquarium</td>\n",
       "      <td>Feeding sharks</td>\n",
       "      <td>M</td>\n",
       "      <td>Minor bite to hand by captive shark. PROVOKED ...</td>\n",
       "      <td>N</td>\n",
       "      <td>Grey reef shark</td>\n",
       "      <td>ABC.net.au ,05/24/2018</td>\n",
       "      <td>http://sharkattackfile.net/spreadsheets/pdf_di...</td>\n",
       "      <td>Reef shark</td>\n",
       "      <td>Feeding sharks</td>\n",
       "      <td>PROVOKED</td>\n",
       "      <td>(2000.0, 2050.0]</td>\n",
       "    </tr>\n",
       "    <tr>\n",
       "      <th>...</th>\n",
       "      <td>...</td>\n",
       "      <td>...</td>\n",
       "      <td>...</td>\n",
       "      <td>...</td>\n",
       "      <td>...</td>\n",
       "      <td>...</td>\n",
       "      <td>...</td>\n",
       "      <td>...</td>\n",
       "      <td>...</td>\n",
       "      <td>...</td>\n",
       "      <td>...</td>\n",
       "      <td>...</td>\n",
       "      <td>...</td>\n",
       "      <td>...</td>\n",
       "      <td>...</td>\n",
       "      <td>...</td>\n",
       "      <td>...</td>\n",
       "      <td>...</td>\n",
       "      <td>...</td>\n",
       "    </tr>\n",
       "    <tr>\n",
       "      <th>6250</th>\n",
       "      <td>6250</td>\n",
       "      <td>ND.0055</td>\n",
       "      <td>Before 1958</td>\n",
       "      <td>0.0</td>\n",
       "      <td>Provoked</td>\n",
       "      <td>BAHAMAS</td>\n",
       "      <td>Andros Islands</td>\n",
       "      <td>Middle Bight</td>\n",
       "      <td>Testing movie camera in full diving dress</td>\n",
       "      <td>M</td>\n",
       "      <td>Shark bit diver's sleeve after he patted it on...</td>\n",
       "      <td>N</td>\n",
       "      <td>Nurse shark, 2.1 m [7']</td>\n",
       "      <td>V.M. Coppleson (1958), p.97</td>\n",
       "      <td>http://sharkattackfile.net/spreadsheets/pdf_di...</td>\n",
       "      <td>Nurse shark</td>\n",
       "      <td>Diving</td>\n",
       "      <td>PROVOKED</td>\n",
       "      <td>NaN</td>\n",
       "    </tr>\n",
       "    <tr>\n",
       "      <th>6253</th>\n",
       "      <td>6253</td>\n",
       "      <td>ND.0052</td>\n",
       "      <td>Before 1957</td>\n",
       "      <td>0.0</td>\n",
       "      <td>Unprovoked</td>\n",
       "      <td>NICARAGUA</td>\n",
       "      <td>Lake Nicaragua (fresh water)</td>\n",
       "      <td>A village  north of San Carlos</td>\n",
       "      <td>Lashing logs together when he fell into the water</td>\n",
       "      <td>M</td>\n",
       "      <td>FATAL, leg severed</td>\n",
       "      <td>Y</td>\n",
       "      <td>Bull shark caught, leg recovered &amp; buried besi...</td>\n",
       "      <td>F. Poli, pp.150-153</td>\n",
       "      <td>http://sharkattackfile.net/spreadsheets/pdf_di...</td>\n",
       "      <td>Bull shark</td>\n",
       "      <td>Fell to the water</td>\n",
       "      <td>FATAL, leg severed</td>\n",
       "      <td>NaN</td>\n",
       "    </tr>\n",
       "    <tr>\n",
       "      <th>6265</th>\n",
       "      <td>6265</td>\n",
       "      <td>ND.0038</td>\n",
       "      <td>1941-1942</td>\n",
       "      <td>0.0</td>\n",
       "      <td>Unprovoked</td>\n",
       "      <td>IRAQ</td>\n",
       "      <td>Basrah</td>\n",
       "      <td>Shatt-el Arab River near a small boat stand</td>\n",
       "      <td>Swimming</td>\n",
       "      <td>M</td>\n",
       "      <td>FATAL, left leg bitten with severe blood loss</td>\n",
       "      <td>Y</td>\n",
       "      <td>Bull shark</td>\n",
       "      <td>B.W. Coad &amp; L.A.J. Al-Hassan</td>\n",
       "      <td>http://sharkattackfile.net/spreadsheets/pdf_di...</td>\n",
       "      <td>Bull shark</td>\n",
       "      <td>Swimming</td>\n",
       "      <td>FATAL, left leg bitten with severe blood loss</td>\n",
       "      <td>NaN</td>\n",
       "    </tr>\n",
       "    <tr>\n",
       "      <th>6274</th>\n",
       "      <td>6274</td>\n",
       "      <td>ND.0028</td>\n",
       "      <td>A few years before 1938</td>\n",
       "      <td>0.0</td>\n",
       "      <td>Boat</td>\n",
       "      <td>ITALY</td>\n",
       "      <td>Adriatic Sea</td>\n",
       "      <td>NaN</td>\n",
       "      <td>Wooden fishing boat</td>\n",
       "      <td>M</td>\n",
       "      <td>No injury to occupant; shark capsized boat</td>\n",
       "      <td>N</td>\n",
       "      <td>White shark</td>\n",
       "      <td>A. De Maddalena; Anon. (1938)</td>\n",
       "      <td>http://sharkattackfile.net/spreadsheets/pdf_di...</td>\n",
       "      <td>White shark</td>\n",
       "      <td>Fishing</td>\n",
       "      <td>No injury to occupant; shark capsized boat</td>\n",
       "      <td>NaN</td>\n",
       "    </tr>\n",
       "    <tr>\n",
       "      <th>6276</th>\n",
       "      <td>6276</td>\n",
       "      <td>ND.0026</td>\n",
       "      <td>Early 1930s</td>\n",
       "      <td>0.0</td>\n",
       "      <td>Unprovoked</td>\n",
       "      <td>BELIZE</td>\n",
       "      <td>NaN</td>\n",
       "      <td>NaN</td>\n",
       "      <td>Standing</td>\n",
       "      <td>M</td>\n",
       "      <td>FATAL</td>\n",
       "      <td>Y</td>\n",
       "      <td>12' tiger shark</td>\n",
       "      <td>Mitchell-Hedges</td>\n",
       "      <td>http://sharkattackfile.net/spreadsheets/pdf_di...</td>\n",
       "      <td>Tiger shark</td>\n",
       "      <td>Standing</td>\n",
       "      <td>FATAL</td>\n",
       "      <td>NaN</td>\n",
       "    </tr>\n",
       "  </tbody>\n",
       "</table>\n",
       "<p>1271 rows × 19 columns</p>\n",
       "</div>"
      ],
      "text/plain": [
       "      Unnamed: 0       CaseNum                     Date    Year        Type  \\\n",
       "0              0    2018.06.25              25-Jun-2018  2018.0        Boat   \n",
       "4              4    2018.06.04              04-Jun-2018  2018.0    Provoked   \n",
       "6              6  2018.06.03.a              03-Jun-2018  2018.0  Unprovoked   \n",
       "8              8  2018.05.26.b              26-May-2018  2018.0  Unprovoked   \n",
       "10            10    2018.05.24              24-May-2018  2018.0    Provoked   \n",
       "...          ...           ...                      ...     ...         ...   \n",
       "6250        6250       ND.0055              Before 1958     0.0    Provoked   \n",
       "6253        6253       ND.0052              Before 1957     0.0  Unprovoked   \n",
       "6265        6265       ND.0038                1941-1942     0.0  Unprovoked   \n",
       "6274        6274       ND.0028  A few years before 1938     0.0        Boat   \n",
       "6276        6276       ND.0026              Early 1930s     0.0  Unprovoked   \n",
       "\n",
       "        Country                          Area  \\\n",
       "0           USA                    California   \n",
       "4        MEXICO                        Colima   \n",
       "6        BRAZIL                    Pernambuco   \n",
       "8           USA                       Florida   \n",
       "10    AUSTRALIA                    Queensland   \n",
       "...         ...                           ...   \n",
       "6250    BAHAMAS                Andros Islands   \n",
       "6253  NICARAGUA  Lake Nicaragua (fresh water)   \n",
       "6265       IRAQ                        Basrah   \n",
       "6274      ITALY                  Adriatic Sea   \n",
       "6276     BELIZE                           NaN   \n",
       "\n",
       "                                         Location  \\\n",
       "0                     Oceanside, San Diego County   \n",
       "4                                        La Ticla   \n",
       "6                           Piedade Beach, Recife   \n",
       "8                    Cocoa Beach, Brevard  County   \n",
       "10                                Cairns Aquarium   \n",
       "...                                           ...   \n",
       "6250                                 Middle Bight   \n",
       "6253               A village  north of San Carlos   \n",
       "6265  Shatt-el Arab River near a small boat stand   \n",
       "6274                                          NaN   \n",
       "6276                                          NaN   \n",
       "\n",
       "                                               Activity Sex  \\\n",
       "0                                              Paddling   F   \n",
       "4                                           Free diving   M   \n",
       "6                                              Swimming   M   \n",
       "8                                               Walking   M   \n",
       "10                                       Feeding sharks   M   \n",
       "...                                                 ...  ..   \n",
       "6250          Testing movie camera in full diving dress   M   \n",
       "6253  Lashing logs together when he fell into the water   M   \n",
       "6265                                           Swimming   M   \n",
       "6274                                Wooden fishing boat   M   \n",
       "6276                                           Standing   M   \n",
       "\n",
       "                                                 Injury Fatal  \\\n",
       "0     No injury to occupant, outrigger canoe and pad...     N   \n",
       "4     Lacerations to leg & hand shark PROVOKED INCIDENT     N   \n",
       "6                                                 FATAL     Y   \n",
       "8                                 Lower left leg bitten     N   \n",
       "10    Minor bite to hand by captive shark. PROVOKED ...     N   \n",
       "...                                                 ...   ...   \n",
       "6250  Shark bit diver's sleeve after he patted it on...     N   \n",
       "6253                                FATAL, leg severed      Y   \n",
       "6265      FATAL, left leg bitten with severe blood loss     Y   \n",
       "6274         No injury to occupant; shark capsized boat     N   \n",
       "6276                                              FATAL     Y   \n",
       "\n",
       "                                                Species  \\\n",
       "0                                           White shark   \n",
       "4                                       Tiger shark, 3m   \n",
       "6                                           Tiger shark   \n",
       "8                                        Bull shark, 6'   \n",
       "10                                      Grey reef shark   \n",
       "...                                                 ...   \n",
       "6250                            Nurse shark, 2.1 m [7']   \n",
       "6253  Bull shark caught, leg recovered & buried besi...   \n",
       "6265                                         Bull shark   \n",
       "6274                                        White shark   \n",
       "6276                                    12' tiger shark   \n",
       "\n",
       "                              Source  \\\n",
       "0                   R. Collier, GSAF   \n",
       "4                          A .Kipper   \n",
       "6     Diario de Pernambuco, 6/4/2018   \n",
       "8     K.McMurray, TrackingSharks.com   \n",
       "10            ABC.net.au ,05/24/2018   \n",
       "...                              ...   \n",
       "6250     V.M. Coppleson (1958), p.97   \n",
       "6253             F. Poli, pp.150-153   \n",
       "6265    B.W. Coad & L.A.J. Al-Hassan   \n",
       "6274   A. De Maddalena; Anon. (1938)   \n",
       "6276                 Mitchell-Hedges   \n",
       "\n",
       "                                                   href     Species2  \\\n",
       "0     http://sharkattackfile.net/spreadsheets/pdf_di...  White shark   \n",
       "4     http://sharkattackfile.net/spreadsheets/pdf_di...  Tiger shark   \n",
       "6     http://sharkattackfile.net/spreadsheets/pdf_di...  Tiger shark   \n",
       "8     http://sharkattackfile.net/spreadsheets/pdf_di...   Bull shark   \n",
       "10    http://sharkattackfile.net/spreadsheets/pdf_di...   Reef shark   \n",
       "...                                                 ...          ...   \n",
       "6250  http://sharkattackfile.net/spreadsheets/pdf_di...  Nurse shark   \n",
       "6253  http://sharkattackfile.net/spreadsheets/pdf_di...   Bull shark   \n",
       "6265  http://sharkattackfile.net/spreadsheets/pdf_di...   Bull shark   \n",
       "6274  http://sharkattackfile.net/spreadsheets/pdf_di...  White shark   \n",
       "6276  http://sharkattackfile.net/spreadsheets/pdf_di...  Tiger shark   \n",
       "\n",
       "              Activity2                                           Provoked  \\\n",
       "0              Paddling  No injury to occupant, outrigger canoe and pad...   \n",
       "4                Diving                                           PROVOKED   \n",
       "6              Swimming                                              FATAL   \n",
       "8               Walking                              Lower left leg bitten   \n",
       "10       Feeding sharks                                           PROVOKED   \n",
       "...                 ...                                                ...   \n",
       "6250             Diving                                           PROVOKED   \n",
       "6253  Fell to the water                                FATAL, leg severed    \n",
       "6265           Swimming      FATAL, left leg bitten with severe blood loss   \n",
       "6274            Fishing         No injury to occupant; shark capsized boat   \n",
       "6276           Standing                                              FATAL   \n",
       "\n",
       "                Decade  \n",
       "0     (2000.0, 2050.0]  \n",
       "4     (2000.0, 2050.0]  \n",
       "6     (2000.0, 2050.0]  \n",
       "8     (2000.0, 2050.0]  \n",
       "10    (2000.0, 2050.0]  \n",
       "...                ...  \n",
       "6250               NaN  \n",
       "6253               NaN  \n",
       "6265               NaN  \n",
       "6274               NaN  \n",
       "6276               NaN  \n",
       "\n",
       "[1271 rows x 19 columns]"
      ]
     },
     "execution_count": 18,
     "metadata": {},
     "output_type": "execute_result"
    }
   ],
   "source": [
    "dfx"
   ]
  },
  {
   "cell_type": "code",
   "execution_count": 19,
   "metadata": {
    "scrolled": false
   },
   "outputs": [
    {
     "name": "stdout",
     "output_type": "stream",
     "text": [
      "N    1020\n",
      "Y     251\n",
      "Name: Fatal, dtype: int64\n",
      "\n",
      "White shark            614\n",
      "Tiger shark            271\n",
      "Bull shark             170\n",
      "Nurse shark             93\n",
      "Reef shark              64\n",
      "Bronze whaler shark     59\n",
      "Name: Species2, dtype: int64\n"
     ]
    }
   ],
   "source": [
    "print(dfx.Fatal.value_counts())\n",
    "print()\n",
    "print(dfx.Species2.value_counts())"
   ]
  },
  {
   "cell_type": "markdown",
   "metadata": {},
   "source": [
    "# 🦈️At this point, the data is clean enough to create the plot\n",
    "## Grouping by Species, and then Fatality"
   ]
  },
  {
   "cell_type": "code",
   "execution_count": 20,
   "metadata": {},
   "outputs": [],
   "source": [
    "import numpy as np"
   ]
  },
  {
   "cell_type": "code",
   "execution_count": 21,
   "metadata": {},
   "outputs": [
    {
     "name": "stderr",
     "output_type": "stream",
     "text": [
      "/usr/local/lib/python3.6/dist-packages/ipykernel_launcher.py:1: SettingWithCopyWarning: \n",
      "A value is trying to be set on a copy of a slice from a DataFrame.\n",
      "Try using .loc[row_indexer,col_indexer] = value instead\n",
      "\n",
      "See the caveats in the documentation: https://pandas.pydata.org/pandas-docs/stable/user_guide/indexing.html#returning-a-view-versus-a-copy\n",
      "  \"\"\"Entry point for launching an IPython kernel.\n",
      "/usr/local/lib/python3.6/dist-packages/ipykernel_launcher.py:2: SettingWithCopyWarning: \n",
      "A value is trying to be set on a copy of a slice from a DataFrame.\n",
      "Try using .loc[row_indexer,col_indexer] = value instead\n",
      "\n",
      "See the caveats in the documentation: https://pandas.pydata.org/pandas-docs/stable/user_guide/indexing.html#returning-a-view-versus-a-copy\n",
      "  \n"
     ]
    }
   ],
   "source": [
    "dfx['Victim_died'] = np.where(dfx.Fatal.isin(['Y']), True, False)\n",
    "dfx['Victim_survived'] = np.where(dfx.Fatal.isin(['N']), True, False)"
   ]
  },
  {
   "cell_type": "code",
   "execution_count": 22,
   "metadata": {},
   "outputs": [],
   "source": [
    "toplot =dfx.groupby(['Species2','Fatal']).agg({'Victim_survived':'sum', 'Victim_died':'sum'})"
   ]
  },
  {
   "cell_type": "code",
   "execution_count": 23,
   "metadata": {},
   "outputs": [
    {
     "data": {
      "text/plain": [
       "<matplotlib.axes._subplots.AxesSubplot at 0x7f44e7c910f0>"
      ]
     },
     "execution_count": 23,
     "metadata": {},
     "output_type": "execute_result"
    },
    {
     "data": {
      "image/png": "[encoded data removed]",
      "text/plain": [
       "<Figure size 432x288 with 1 Axes>"
      ]
     },
     "metadata": {
      "needs_background": "light"
     },
     "output_type": "display_data"
    }
   ],
   "source": [
    "toplot.plot.bar()"
   ]
  },
  {
   "cell_type": "code",
   "execution_count": 24,
   "metadata": {},
   "outputs": [
    {
     "data": {
      "text/html": [
       "<div>\n",
       "<style scoped>\n",
       "    .dataframe tbody tr th:only-of-type {\n",
       "        vertical-align: middle;\n",
       "    }\n",
       "\n",
       "    .dataframe tbody tr th {\n",
       "        vertical-align: top;\n",
       "    }\n",
       "\n",
       "    .dataframe thead th {\n",
       "        text-align: right;\n",
       "    }\n",
       "</style>\n",
       "<table border=\"1\" class=\"dataframe\">\n",
       "  <thead>\n",
       "    <tr style=\"text-align: right;\">\n",
       "      <th></th>\n",
       "      <th></th>\n",
       "      <th>Victim_survived</th>\n",
       "      <th>Victim_died</th>\n",
       "    </tr>\n",
       "    <tr>\n",
       "      <th>Species2</th>\n",
       "      <th>Fatal</th>\n",
       "      <th></th>\n",
       "      <th></th>\n",
       "    </tr>\n",
       "  </thead>\n",
       "  <tbody>\n",
       "    <tr>\n",
       "      <th rowspan=\"2\" valign=\"top\">Bronze whaler shark</th>\n",
       "      <th>N</th>\n",
       "      <td>55.0</td>\n",
       "      <td>0.0</td>\n",
       "    </tr>\n",
       "    <tr>\n",
       "      <th>Y</th>\n",
       "      <td>0.0</td>\n",
       "      <td>4.0</td>\n",
       "    </tr>\n",
       "    <tr>\n",
       "      <th rowspan=\"2\" valign=\"top\">Bull shark</th>\n",
       "      <th>N</th>\n",
       "      <td>135.0</td>\n",
       "      <td>0.0</td>\n",
       "    </tr>\n",
       "    <tr>\n",
       "      <th>Y</th>\n",
       "      <td>0.0</td>\n",
       "      <td>35.0</td>\n",
       "    </tr>\n",
       "    <tr>\n",
       "      <th>Nurse shark</th>\n",
       "      <th>N</th>\n",
       "      <td>93.0</td>\n",
       "      <td>0.0</td>\n",
       "    </tr>\n",
       "    <tr>\n",
       "      <th>Reef shark</th>\n",
       "      <th>N</th>\n",
       "      <td>64.0</td>\n",
       "      <td>0.0</td>\n",
       "    </tr>\n",
       "    <tr>\n",
       "      <th rowspan=\"2\" valign=\"top\">Tiger shark</th>\n",
       "      <th>N</th>\n",
       "      <td>202.0</td>\n",
       "      <td>0.0</td>\n",
       "    </tr>\n",
       "    <tr>\n",
       "      <th>Y</th>\n",
       "      <td>0.0</td>\n",
       "      <td>69.0</td>\n",
       "    </tr>\n",
       "    <tr>\n",
       "      <th rowspan=\"2\" valign=\"top\">White shark</th>\n",
       "      <th>N</th>\n",
       "      <td>471.0</td>\n",
       "      <td>0.0</td>\n",
       "    </tr>\n",
       "    <tr>\n",
       "      <th>Y</th>\n",
       "      <td>0.0</td>\n",
       "      <td>143.0</td>\n",
       "    </tr>\n",
       "  </tbody>\n",
       "</table>\n",
       "</div>"
      ],
      "text/plain": [
       "                           Victim_survived  Victim_died\n",
       "Species2            Fatal                              \n",
       "Bronze whaler shark N                 55.0          0.0\n",
       "                    Y                  0.0          4.0\n",
       "Bull shark          N                135.0          0.0\n",
       "                    Y                  0.0         35.0\n",
       "Nurse shark         N                 93.0          0.0\n",
       "Reef shark          N                 64.0          0.0\n",
       "Tiger shark         N                202.0          0.0\n",
       "                    Y                  0.0         69.0\n",
       "White shark         N                471.0          0.0\n",
       "                    Y                  0.0        143.0"
      ]
     },
     "execution_count": 24,
     "metadata": {},
     "output_type": "execute_result"
    }
   ],
   "source": [
    "toplot"
   ]
  },
  {
   "cell_type": "code",
   "execution_count": 25,
   "metadata": {},
   "outputs": [
    {
     "data": {
      "text/plain": [
       "MultiIndex([('Bronze whaler shark', 'N'),\n",
       "            ('Bronze whaler shark', 'Y'),\n",
       "            (         'Bull shark', 'N'),\n",
       "            (         'Bull shark', 'Y'),\n",
       "            (        'Nurse shark', 'N'),\n",
       "            (         'Reef shark', 'N'),\n",
       "            (        'Tiger shark', 'N'),\n",
       "            (        'Tiger shark', 'Y'),\n",
       "            (        'White shark', 'N'),\n",
       "            (        'White shark', 'Y')],\n",
       "           names=['Species2', 'Fatal'])"
      ]
     },
     "execution_count": 25,
     "metadata": {},
     "output_type": "execute_result"
    }
   ],
   "source": [
    "toplot.T.columns"
   ]
  },
  {
   "cell_type": "code",
   "execution_count": 26,
   "metadata": {
    "scrolled": true
   },
   "outputs": [
    {
     "data": {
      "text/plain": [
       "<matplotlib.axes._subplots.AxesSubplot at 0x7f44e7b7b400>"
      ]
     },
     "metadata": {},
     "output_type": "display_data"
    },
    {
     "data": {
      "image/png": "[encoded data removed]",
      "text/plain": [
       "<Figure size 432x288 with 1 Axes>"
      ]
     },
     "metadata": {
      "needs_background": "light"
     },
     "output_type": "display_data"
    }
   ],
   "source": [
    "examine = 'White shark'\n",
    "display(toplot.T[f'{examine}'].plot.bar(title=f'{examine} mortality'))"
   ]
  },
  {
   "cell_type": "code",
   "execution_count": 27,
   "metadata": {
    "scrolled": true
   },
   "outputs": [
    {
     "data": {
      "text/plain": [
       "<matplotlib.axes._subplots.AxesSubplot at 0x7f44e7b50160>"
      ]
     },
     "metadata": {},
     "output_type": "display_data"
    },
    {
     "data": {
      "image/png": "[encoded data removed]",
      "text/plain": [
       "<Figure size 432x288 with 1 Axes>"
      ]
     },
     "metadata": {
      "needs_background": "light"
     },
     "output_type": "display_data"
    }
   ],
   "source": [
    "examine = 'Tiger shark'\n",
    "display(toplot.T[f'{examine}'].plot.bar(title=f'{examine} mortality'))"
   ]
  },
  {
   "cell_type": "code",
   "execution_count": 28,
   "metadata": {
    "scrolled": true
   },
   "outputs": [
    {
     "data": {
      "text/plain": [
       "<matplotlib.axes._subplots.AxesSubplot at 0x7f44e7a65a20>"
      ]
     },
     "execution_count": 28,
     "metadata": {},
     "output_type": "execute_result"
    },
    {
     "data": {
      "image/png": "[encoded data removed]",
      "text/plain": [
       "<Figure size 432x288 with 1 Axes>"
      ]
     },
     "metadata": {
      "needs_background": "light"
     },
     "output_type": "display_data"
    }
   ],
   "source": [
    "examine = 'Bull shark'\n",
    "toplot.T[f'{examine}'].plot.bar(title=f'{examine} mortality')"
   ]
  },
  {
   "cell_type": "code",
   "execution_count": 29,
   "metadata": {
    "scrolled": true
   },
   "outputs": [
    {
     "data": {
      "text/plain": [
       "<matplotlib.axes._subplots.AxesSubplot at 0x7f44e7a45eb8>"
      ]
     },
     "execution_count": 29,
     "metadata": {},
     "output_type": "execute_result"
    },
    {
     "data": {
      "image/png": "[encoded data removed]",
      "text/plain": [
       "<Figure size 432x288 with 1 Axes>"
      ]
     },
     "metadata": {
      "needs_background": "light"
     },
     "output_type": "display_data"
    }
   ],
   "source": [
    "examine = 'Nurse shark'\n",
    "toplot.T[f'{examine}'].plot.bar(title=f'{examine} mortality')"
   ]
  },
  {
   "cell_type": "code",
   "execution_count": null,
   "metadata": {},
   "outputs": [],
   "source": []
  },
  {
   "cell_type": "code",
   "execution_count": null,
   "metadata": {},
   "outputs": [],
   "source": []
  },
  {
   "cell_type": "code",
   "execution_count": null,
   "metadata": {},
   "outputs": [],
   "source": []
  },
  {
   "cell_type": "code",
   "execution_count": null,
   "metadata": {},
   "outputs": [],
   "source": []
  },
  {
   "cell_type": "code",
   "execution_count": null,
   "metadata": {},
   "outputs": [],
   "source": []
  },
  {
   "cell_type": "code",
   "execution_count": null,
   "metadata": {},
   "outputs": [],
   "source": []
  },
  {
   "cell_type": "code",
   "execution_count": null,
   "metadata": {},
   "outputs": [],
   "source": []
  },
  {
   "cell_type": "code",
   "execution_count": null,
   "metadata": {},
   "outputs": [],
   "source": []
  },
  {
   "cell_type": "code",
   "execution_count": null,
   "metadata": {},
   "outputs": [],
   "source": []
  },
  {
   "cell_type": "code",
   "execution_count": null,
   "metadata": {},
   "outputs": [],
   "source": []
  },
  {
   "cell_type": "code",
   "execution_count": 30,
   "metadata": {},
   "outputs": [
    {
     "ename": "KeyError",
     "evalue": "\"['Fatal2'] not in index\"",
     "output_type": "error",
     "traceback": [
      "\u001b[0;31m---------------------------------------------------------------------------\u001b[0m",
      "\u001b[0;31mKeyError\u001b[0m                                  Traceback (most recent call last)",
      "\u001b[0;32m<ipython-input-30-971a9fb7ffb0>\u001b[0m in \u001b[0;36m<module>\u001b[0;34m\u001b[0m\n\u001b[0;32m----> 1\u001b[0;31m \u001b[0mdfx\u001b[0m\u001b[0;34m[\u001b[0m\u001b[0;34m[\u001b[0m\u001b[0;34m'Species2'\u001b[0m\u001b[0;34m,\u001b[0m\u001b[0;34m'Fatal2'\u001b[0m\u001b[0;34m]\u001b[0m\u001b[0;34m]\u001b[0m\u001b[0;34m.\u001b[0m\u001b[0mgroupby\u001b[0m\u001b[0;34m(\u001b[0m\u001b[0;34m'Species2'\u001b[0m\u001b[0;34m)\u001b[0m\u001b[0;34m.\u001b[0m\u001b[0magg\u001b[0m\u001b[0;34m(\u001b[0m\u001b[0;34m{\u001b[0m\u001b[0;34m'Fatal'\u001b[0m\u001b[0;34m:\u001b[0m\u001b[0;34m\"count\"\u001b[0m\u001b[0;34m}\u001b[0m\u001b[0;34m)\u001b[0m\u001b[0;34m\u001b[0m\u001b[0;34m\u001b[0m\u001b[0m\n\u001b[0m",
      "\u001b[0;32m~/.local/lib/python3.6/site-packages/pandas/core/frame.py\u001b[0m in \u001b[0;36m__getitem__\u001b[0;34m(self, key)\u001b[0m\n\u001b[1;32m   2804\u001b[0m             \u001b[0;32mif\u001b[0m \u001b[0mis_iterator\u001b[0m\u001b[0;34m(\u001b[0m\u001b[0mkey\u001b[0m\u001b[0;34m)\u001b[0m\u001b[0;34m:\u001b[0m\u001b[0;34m\u001b[0m\u001b[0;34m\u001b[0m\u001b[0m\n\u001b[1;32m   2805\u001b[0m                 \u001b[0mkey\u001b[0m \u001b[0;34m=\u001b[0m \u001b[0mlist\u001b[0m\u001b[0;34m(\u001b[0m\u001b[0mkey\u001b[0m\u001b[0;34m)\u001b[0m\u001b[0;34m\u001b[0m\u001b[0;34m\u001b[0m\u001b[0m\n\u001b[0;32m-> 2806\u001b[0;31m             \u001b[0mindexer\u001b[0m \u001b[0;34m=\u001b[0m \u001b[0mself\u001b[0m\u001b[0;34m.\u001b[0m\u001b[0mloc\u001b[0m\u001b[0;34m.\u001b[0m\u001b[0m_get_listlike_indexer\u001b[0m\u001b[0;34m(\u001b[0m\u001b[0mkey\u001b[0m\u001b[0;34m,\u001b[0m \u001b[0maxis\u001b[0m\u001b[0;34m=\u001b[0m\u001b[0;36m1\u001b[0m\u001b[0;34m,\u001b[0m \u001b[0mraise_missing\u001b[0m\u001b[0;34m=\u001b[0m\u001b[0;32mTrue\u001b[0m\u001b[0;34m)\u001b[0m\u001b[0;34m[\u001b[0m\u001b[0;36m1\u001b[0m\u001b[0;34m]\u001b[0m\u001b[0;34m\u001b[0m\u001b[0;34m\u001b[0m\u001b[0m\n\u001b[0m\u001b[1;32m   2807\u001b[0m \u001b[0;34m\u001b[0m\u001b[0m\n\u001b[1;32m   2808\u001b[0m         \u001b[0;31m# take() does not accept boolean indexers\u001b[0m\u001b[0;34m\u001b[0m\u001b[0;34m\u001b[0m\u001b[0;34m\u001b[0m\u001b[0m\n",
      "\u001b[0;32m~/.local/lib/python3.6/site-packages/pandas/core/indexing.py\u001b[0m in \u001b[0;36m_get_listlike_indexer\u001b[0;34m(self, key, axis, raise_missing)\u001b[0m\n\u001b[1;32m   1551\u001b[0m \u001b[0;34m\u001b[0m\u001b[0m\n\u001b[1;32m   1552\u001b[0m         self._validate_read_indexer(\n\u001b[0;32m-> 1553\u001b[0;31m             \u001b[0mkeyarr\u001b[0m\u001b[0;34m,\u001b[0m \u001b[0mindexer\u001b[0m\u001b[0;34m,\u001b[0m \u001b[0mo\u001b[0m\u001b[0;34m.\u001b[0m\u001b[0m_get_axis_number\u001b[0m\u001b[0;34m(\u001b[0m\u001b[0maxis\u001b[0m\u001b[0;34m)\u001b[0m\u001b[0;34m,\u001b[0m \u001b[0mraise_missing\u001b[0m\u001b[0;34m=\u001b[0m\u001b[0mraise_missing\u001b[0m\u001b[0;34m\u001b[0m\u001b[0;34m\u001b[0m\u001b[0m\n\u001b[0m\u001b[1;32m   1554\u001b[0m         )\n\u001b[1;32m   1555\u001b[0m         \u001b[0;32mreturn\u001b[0m \u001b[0mkeyarr\u001b[0m\u001b[0;34m,\u001b[0m \u001b[0mindexer\u001b[0m\u001b[0;34m\u001b[0m\u001b[0;34m\u001b[0m\u001b[0m\n",
      "\u001b[0;32m~/.local/lib/python3.6/site-packages/pandas/core/indexing.py\u001b[0m in \u001b[0;36m_validate_read_indexer\u001b[0;34m(self, key, indexer, axis, raise_missing)\u001b[0m\n\u001b[1;32m   1644\u001b[0m             \u001b[0;32mif\u001b[0m \u001b[0;32mnot\u001b[0m \u001b[0;34m(\u001b[0m\u001b[0mself\u001b[0m\u001b[0;34m.\u001b[0m\u001b[0mname\u001b[0m \u001b[0;34m==\u001b[0m \u001b[0;34m\"loc\"\u001b[0m \u001b[0;32mand\u001b[0m \u001b[0;32mnot\u001b[0m \u001b[0mraise_missing\u001b[0m\u001b[0;34m)\u001b[0m\u001b[0;34m:\u001b[0m\u001b[0;34m\u001b[0m\u001b[0;34m\u001b[0m\u001b[0m\n\u001b[1;32m   1645\u001b[0m                 \u001b[0mnot_found\u001b[0m \u001b[0;34m=\u001b[0m \u001b[0mlist\u001b[0m\u001b[0;34m(\u001b[0m\u001b[0mset\u001b[0m\u001b[0;34m(\u001b[0m\u001b[0mkey\u001b[0m\u001b[0;34m)\u001b[0m \u001b[0;34m-\u001b[0m \u001b[0mset\u001b[0m\u001b[0;34m(\u001b[0m\u001b[0max\u001b[0m\u001b[0;34m)\u001b[0m\u001b[0;34m)\u001b[0m\u001b[0;34m\u001b[0m\u001b[0;34m\u001b[0m\u001b[0m\n\u001b[0;32m-> 1646\u001b[0;31m                 \u001b[0;32mraise\u001b[0m \u001b[0mKeyError\u001b[0m\u001b[0;34m(\u001b[0m\u001b[0;34mf\"{not_found} not in index\"\u001b[0m\u001b[0;34m)\u001b[0m\u001b[0;34m\u001b[0m\u001b[0;34m\u001b[0m\u001b[0m\n\u001b[0m\u001b[1;32m   1647\u001b[0m \u001b[0;34m\u001b[0m\u001b[0m\n\u001b[1;32m   1648\u001b[0m             \u001b[0;31m# we skip the warning on Categorical/Interval\u001b[0m\u001b[0;34m\u001b[0m\u001b[0;34m\u001b[0m\u001b[0;34m\u001b[0m\u001b[0m\n",
      "\u001b[0;31mKeyError\u001b[0m: \"['Fatal2'] not in index\""
     ]
    }
   ],
   "source": [
    "dfx[['Species2','Fatal2']].groupby('Species2').agg({'Fatal':\"count\"})"
   ]
  },
  {
   "cell_type": "code",
   "execution_count": null,
   "metadata": {},
   "outputs": [],
   "source": []
  },
  {
   "cell_type": "code",
   "execution_count": null,
   "metadata": {
    "scrolled": true
   },
   "outputs": [],
   "source": [
    "sx = df.groupby([\"Fatal\", \"Species2\"]).agg({\"Date\":[\"min\", \"max\"]})\n",
    "sx"
   ]
  },
  {
   "cell_type": "code",
   "execution_count": null,
   "metadata": {},
   "outputs": [],
   "source": [
    "sx = df.groupby([\"Fatal\", \"Species2\"]).agg({\"Date\":[\"min\", \"max\"]})\n",
    "sx"
   ]
  },
  {
   "cell_type": "code",
   "execution_count": null,
   "metadata": {},
   "outputs": [],
   "source": [
    "def filt(x):\n",
    "    if x =='UNKNOWN':\n",
    "        return None\n",
    "    else:\n",
    "        return x\n",
    "df.reset_index()\n",
    "Fatal_na = df.Fatal.isin(['UNKNOWN'])\n",
    "Species_na = df.Species2.isin(['INVALID ENTRY', 'OTHER / NOT KNOWN'])\n",
    "sx = df.loc[~Fatal_na].groupby([\"Fatal\", \"Species2\"]).agg({\"Type\":\"count\"})\n",
    "sy = df.loc[~Species_na]\n",
    "# avoid.value_counts()\n",
    "#Species_na.value_counts()\n",
    "#df[~Fatal_na, ~Species_na]\n",
    "sp_na = df[~Species_na]\n",
    "df_nonull = sp_na[~Fatal_na]"
   ]
  },
  {
   "cell_type": "code",
   "execution_count": null,
   "metadata": {},
   "outputs": [],
   "source": [
    "df_ok = df_nonull.reset_index()\n",
    "# df_ok.head().plot.scatter(df_ok.Species2,df_ok.Fatal)"
   ]
  },
  {
   "cell_type": "code",
   "execution_count": null,
   "metadata": {},
   "outputs": [],
   "source": [
    "matplotlib.pyplot.scatter(df_nonull.Fatal, df_nonull.Species2)\n"
   ]
  },
  {
   "cell_type": "code",
   "execution_count": null,
   "metadata": {},
   "outputs": [],
   "source": []
  },
  {
   "cell_type": "code",
   "execution_count": null,
   "metadata": {},
   "outputs": [],
   "source": [
    "dfx = df[['Species2','Fatal']]\n",
    "dfx.isnull().sum()"
   ]
  },
  {
   "cell_type": "code",
   "execution_count": null,
   "metadata": {},
   "outputs": [],
   "source": [
    "avoid1 = ~df['Fatal'].isin(['UNKNOWN'])\n",
    "avoid2 = ~df['Species2'].isin(['OTHER / NOT KNOWN', 'INVALID ENTRY'])\n",
    "df2p = df[avoid1][avoid2][['Species2', 'Fatal']]\n",
    "#df2p.plot.bar('Fatal', 'Species2')"
   ]
  },
  {
   "cell_type": "code",
   "execution_count": null,
   "metadata": {},
   "outputs": [],
   "source": [
    "df2p.Fatal.values"
   ]
  },
  {
   "cell_type": "code",
   "execution_count": null,
   "metadata": {},
   "outputs": [],
   "source": [
    "df2p.Species2.values"
   ]
  },
  {
   "cell_type": "code",
   "execution_count": null,
   "metadata": {},
   "outputs": [],
   "source": [
    "Yes = (lambda x: True if x == 'Y' else False)\n",
    "df2p.groupby('Species2').agg({\"Fatal\" : Yes})"
   ]
  },
  {
   "cell_type": "code",
   "execution_count": null,
   "metadata": {},
   "outputs": [],
   "source": [
    "df.columns"
   ]
  },
  {
   "cell_type": "code",
   "execution_count": null,
   "metadata": {},
   "outputs": [],
   "source": []
  },
  {
   "cell_type": "code",
   "execution_count": null,
   "metadata": {},
   "outputs": [],
   "source": []
  }
 ],
 "metadata": {
  "kernelspec": {
   "display_name": "Python 3",
   "language": "python",
   "name": "python3"
  },
  "language_info": {
   "codemirror_mode": {
    "name": "ipython",
    "version": 2
   },
   "file_extension": ".py",
   "mimetype": "text/x-python",
   "name": "python",
   "nbconvert_exporter": "python",
   "pygments_lexer": "ipython2",
   "version": "2.7.17"
  }
 },
 "nbformat": 4,
 "nbformat_minor": 4
}
